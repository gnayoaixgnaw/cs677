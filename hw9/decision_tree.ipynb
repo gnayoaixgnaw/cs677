{
 "cells": [
  {
   "cell_type": "code",
   "execution_count": 6,
   "metadata": {},
   "outputs": [],
   "source": [
    "import pandas as pd\n",
    "import numpy as np\n",
    "import matplotlib.pyplot as plt\n",
    "from sklearn import tree\n",
    "from sklearn.metrics import confusion_matrix\n",
    "from sklearn.preprocessing import StandardScaler, LabelEncoder\n"
   ]
  },
  {
   "cell_type": "code",
   "execution_count": 7,
   "metadata": {},
   "outputs": [],
   "source": [
    "data = pd.read_csv('WMT1.csv')\n",
    "data_17 = data[data.Year == 2017]\n",
    "\n",
    "# calculate the mean std\n",
    "mean_17 = data_17.groupby('Week_Number')['Return'].mean().tolist()\n",
    "std_17 = data_17.groupby('Week_Number')['Return'].std().tolist()\n",
    "week_id_17 = list(data_17.groupby('Week_Number').indices.keys())\n",
    "color_17 = data_17.groupby('Week_Number')['label'].agg(lambda x: x.mode()).tolist()\n",
    "\n",
    "data_18 = data[data.Year == 2018]\n",
    "data_18.drop(data_18.index[-1], inplace=True)\n",
    "\n",
    "# calculate the mean std\n",
    "mean_18 = data_18.groupby('Week_Number')['Return'].mean().tolist()\n",
    "std_18 = data_18.groupby('Week_Number')['Return'].std().tolist()\n",
    "weekly_18 = data[(data.Year == 2018) & (data.Weekday == 'Friday')]['Adj Close'].values  # select Friday's data\n",
    "\n",
    "week_id_18 = list(data_18.groupby('Week_Number').indices.keys())\n",
    "color_18 = data_18.groupby('Week_Number')['label'].agg(lambda x: x.mode()).tolist()\n"
   ]
  },
  {
   "cell_type": "code",
   "execution_count": 8,
   "metadata": {},
   "outputs": [],
   "source": [
    "df_17 = pd.DataFrame(\n",
    "    {\n",
    "        'id':week_id_17,\n",
    "        'mean':mean_17,\n",
    "        'std':std_17,\n",
    "        'label':color_17\n",
    "    },\n",
    "    columns = ['id','mean','std','label']\n",
    ")\n",
    "\n",
    "df_18 = pd.DataFrame(\n",
    "    {\n",
    "        'id':week_id_18,\n",
    "        'mean':mean_18,\n",
    "        'std':std_18,\n",
    "        'label':color_18\n",
    "    },\n",
    "    columns = ['id','mean','std','label']\n",
    ")"
   ]
  },
  {
   "cell_type": "code",
   "execution_count": 9,
   "metadata": {},
   "outputs": [],
   "source": [
    "x_train = df_17[['mean','std']].values\n",
    "scaler = StandardScaler()\n",
    "scaler.fit(x_train)\n",
    "x_train = scaler.transform(x_train)\n",
    "y_train= df_17['label'].values\n",
    "\n",
    "x_test = df_18[['mean','std']].values\n",
    "scaler = StandardScaler()\n",
    "scaler.fit(x_test)\n",
    "x_test = scaler.transform(x_test)\n",
    "y_test = df_18['label'].values"
   ]
  },
  {
   "cell_type": "code",
   "execution_count": 10,
   "metadata": {},
   "outputs": [
    {
     "data": {
      "text/plain": [
       "0.8846153846153846"
      ]
     },
     "execution_count": 10,
     "metadata": {},
     "output_type": "execute_result"
    }
   ],
   "source": [
    "#question1\n",
    "clf = tree.DecisionTreeClassifier(criterion = 'entropy')\n",
    "clf = clf .fit(x_train,y_train)\n",
    "prediction = clf.predict(x_test)\n",
    "acc = 1 - np.mean(prediction != y_test)\n",
    "acc"
   ]
  },
  {
   "cell_type": "code",
   "execution_count": 15,
   "metadata": {},
   "outputs": [
    {
     "data": {
      "text/plain": [
       "array([[31,  0],\n",
       "       [ 6, 15]])"
      ]
     },
     "execution_count": 15,
     "metadata": {},
     "output_type": "execute_result"
    }
   ],
   "source": [
    "#question2\n",
    "a = confusion_matrix(y_test,prediction)\n",
    "a"
   ]
  },
  {
   "cell_type": "code",
   "execution_count": 16,
   "metadata": {},
   "outputs": [
    {
     "name": "stdout",
     "output_type": "stream",
     "text": [
      "true positive rate is : 1.0\n",
      "true negative rate is : 0.7142857142857143\n"
     ]
    }
   ],
   "source": [
    "#question3\n",
    "TPR = a[0][0]/(a[0][0]+a[0][1])\n",
    "TNR = a[1][1]/(a[1][0]+a[1][1])\n",
    "print('true positive rate is :',TPR)\n",
    "print('true negative rate is :',TNR)"
   ]
  },
  {
   "cell_type": "code",
   "execution_count": 17,
   "metadata": {},
   "outputs": [],
   "source": [
    "#question4\n",
    "previous_shares = 0\n",
    "previous_balance = 100\n",
    "weekly_balance = []\n",
    "for i in range(len(weekly_18)-1):\n",
    "    if prediction[i+1] == 'green':\n",
    "        if previous_shares ==0 :\n",
    "            previous_shares = previous_balance/weekly_18[i]\n",
    "    elif prediction[i+1] == 'red':\n",
    "        if previous_shares != 0:\n",
    "            previous_balance = previous_shares*weekly_18[i]\n",
    "            previous_shares = 0\n",
    "\n",
    "    weekly_balance.append(previous_balance)\n",
    "result1 = weekly_balance[-1]"
   ]
  },
  {
   "cell_type": "code",
   "execution_count": 19,
   "metadata": {},
   "outputs": [
    {
     "name": "stdout",
     "output_type": "stream",
     "text": [
      "result based on my labels: 123.623307 $\n",
      "result based on buy and hold: 94.188504 $\n",
      "my labels results in a large amount at the end of the year\n"
     ]
    }
   ],
   "source": [
    "result2 = 100/weekly_18[0]*weekly_18[-1]\n",
    "\n",
    "print('result based on my labels: %f $'%result1)\n",
    "print('result based on buy and hold: %f $'%result2)\n",
    "print('my labels results in a large amount at the end of the year')"
   ]
  },
  {
   "cell_type": "code",
   "execution_count": null,
   "metadata": {},
   "outputs": [],
   "source": []
  }
 ],
 "metadata": {
  "kernelspec": {
   "display_name": "Python 3",
   "language": "python",
   "name": "python3"
  },
  "language_info": {
   "codemirror_mode": {
    "name": "ipython",
    "version": 3
   },
   "file_extension": ".py",
   "mimetype": "text/x-python",
   "name": "python",
   "nbconvert_exporter": "python",
   "pygments_lexer": "ipython3",
   "version": "3.8.3"
  }
 },
 "nbformat": 4,
 "nbformat_minor": 4
}
