{
 "cells": [
  {
   "cell_type": "code",
   "execution_count": 23,
   "metadata": {},
   "outputs": [],
   "source": [
    "import pandas as pd\n",
    "import numpy as np\n",
    "from sklearn . metrics import mean_squared_error\n",
    "from scipy . stats import f as fisher_f\n",
    "warnings.filterwarnings('ignore')# ignore warnings\n",
    "\n",
    "data = pd.read_csv('WMT1.csv')\n",
    "\n"
   ]
  },
  {
   "cell_type": "code",
   "execution_count": 43,
   "metadata": {},
   "outputs": [
    {
     "name": "stdout",
     "output_type": "stream",
     "text": [
      "month: 1, condidate day is : 17 , f_statistics is : 3.736710 ,p_value is: 0.046596, two regression line provide a significantly better fit than one\n",
      "month: 2, condidate day is : 13 , f_statistics is : 12.189788 ,p_value is: 0.000718, two regression line provide a significantly better fit than one\n",
      "month: 3, condidate day is : 17 , f_statistics is : 20.165696 ,p_value is: 0.000020, two regression line provide a significantly better fit than one\n",
      "month: 4, condidate day is : 4 , f_statistics is : 11.142386 ,p_value is: 0.001082, two regression line provide a significantly better fit than one\n",
      "month: 5, condidate day is : 13 , f_statistics is : 15.243643 ,p_value is: 0.000134, two regression line provide a significantly better fit than one\n",
      "month: 6, condidate day is : 11 , f_statistics is : 58.136108 ,p_value is: 0.000000, two regression line provide a significantly better fit than one\n",
      "month: 7, condidate day is : 4 , f_statistics is : 21.445076 ,p_value is: 0.000030, two regression line provide a significantly better fit than one\n",
      "month: 8, condidate day is : 7 , f_statistics is : 17.803563 ,p_value is: 0.000044, two regression line provide a significantly better fit than one\n",
      "month: 9, condidate day is : 12 , f_statistics is : 11.324557 ,p_value is: 0.000863, two regression line provide a significantly better fit than one\n",
      "month: 10, condidate day is : 6 , f_statistics is : 45.278027 ,p_value is: 0.000000, two regression line provide a significantly better fit than one\n",
      "month: 11, condidate day is : 11 , f_statistics is : 60.533720 ,p_value is: 0.000000, two regression line provide a significantly better fit than one\n",
      "month: 12, condidate day is : 12 , f_statistics is : 4.265583 ,p_value is: 0.032750, two regression line provide a significantly better fit than one\n"
     ]
    }
   ],
   "source": [
    "year = 2017\n",
    "month_number = 12\n",
    "daily_data = data[(data.Year == year)]  # select Friday's data\n",
    "for i in range(month_number):\n",
    "    monthly_daily_data = daily_data[(data.Month == i+1)]\n",
    "    day_list = monthly_daily_data['Adj Close'].tolist()\n",
    "    \n",
    "    x = np.array(range(len(day_list)))\n",
    "    y = day_list\n",
    "    degree = 1\n",
    "    weights = np. polyfit (x,y, degree)\n",
    "    model= np. poly1d (weights)\n",
    "    predicted= model(x)\n",
    "    sse = (len(day_list)-2)* mean_squared_error(y, predicted)\n",
    "    \n",
    "    sse_sums = []\n",
    "    for k in range(2,len(day_list)-1):\n",
    "        x1 = np.array(range(k))\n",
    "        y1 = day_list[0:k]\n",
    "        degree = 1\n",
    "        weights_1 = np. polyfit (x1,y1, degree)\n",
    "        model_1= np. poly1d (weights_1)\n",
    "        predicted_1= model_1(x1)\n",
    "        sse1 = (k-2)* mean_squared_error(y1, predicted_1)\n",
    "        \n",
    "        x2 = np.array(range(k,len(day_list)))\n",
    "        y2 = day_list[k:]\n",
    "        degree = 1\n",
    "        weights_2 = np. polyfit (x2,y2, degree)\n",
    "        model_2= np. poly1d (weights_2)\n",
    "        predicted_2= model_2(x2)\n",
    "        sse2 = (len(day_list) - k-2) * mean_squared_error(y2, predicted_2)\n",
    "        \n",
    "        sse_sum = sse1+sse2\n",
    "           \n",
    "\n",
    "        sse_sums.append(sse_sum)\n",
    "    result = np.array(sse_sums)\n",
    "    sse1_2_min = result.min()\n",
    "\n",
    "    day = np.argsort(result)[0]+2\n",
    "    f_statistics = ((sse-sse1_2_min) / 2 )*((len(day_list) - 4)/ sse1_2_min)\n",
    "    p_value = 1 - fisher_f.cdf (f_statistics ,2, len(day_list) -4)\n",
    "    s=''\n",
    "    if p_value < 0.1:\n",
    "        s = 'two regression line provide a significantly better fit than one'\n",
    "    else:\n",
    "        s = 'two regression line do not provide a significantly better fit than one'\n",
    "    \n",
    "    print('month: %d, condidate day is : %d , f_statistics is : %f ,p_value is: %f, %s'%(i+1,day,f_statistics,p_value,s))\n"
   ]
  },
  {
   "cell_type": "code",
   "execution_count": 44,
   "metadata": {},
   "outputs": [
    {
     "name": "stdout",
     "output_type": "stream",
     "text": [
      "month: 1, condidate day is : 10 , f_statistics is : 8.479512 ,p_value is: 0.002791, two regression line provide a significantly better fit than one\n",
      "month: 2, condidate day is : 12 , f_statistics is : 14.986202 ,p_value is: 0.000265, two regression line provide a significantly better fit than one\n",
      "month: 3, condidate day is : 16 , f_statistics is : 9.707554 ,p_value is: 0.001541, two regression line provide a significantly better fit than one\n",
      "month: 4, condidate day is : 4 , f_statistics is : 4.933515 ,p_value is: 0.020438, two regression line provide a significantly better fit than one\n",
      "month: 5, condidate day is : 9 , f_statistics is : 8.883094 ,p_value is: 0.002071, two regression line provide a significantly better fit than one\n",
      "month: 6, condidate day is : 16 , f_statistics is : 14.794257 ,p_value is: 0.000190, two regression line provide a significantly better fit than one\n",
      "month: 7, condidate day is : 5 , f_statistics is : 20.705914 ,p_value is: 0.000028, two regression line provide a significantly better fit than one\n",
      "month: 8, condidate day is : 11 , f_statistics is : 70.443751 ,p_value is: 0.000000, two regression line provide a significantly better fit than one\n",
      "month: 9, condidate day is : 6 , f_statistics is : 4.316618 ,p_value is: 0.033057, two regression line provide a significantly better fit than one\n",
      "month: 10, condidate day is : 8 , f_statistics is : 13.462812 ,p_value is: 0.000228, two regression line provide a significantly better fit than one\n",
      "month: 11, condidate day is : 10 , f_statistics is : 14.710077 ,p_value is: 0.000196, two regression line provide a significantly better fit than one\n",
      "month: 12, condidate day is : 15 , f_statistics is : 41.961237 ,p_value is: 0.000001, two regression line provide a significantly better fit than one\n"
     ]
    }
   ],
   "source": [
    "year = 2018\n",
    "month_number = 12\n",
    "daily_data = data[(data.Year == year)]  # select Friday's data\n",
    "for i in range(month_number):\n",
    "    monthly_daily_data = daily_data[(data.Month == i+1)]\n",
    "    day_list = monthly_daily_data['Adj Close'].tolist()\n",
    "    \n",
    "    x = np.array(range(len(day_list)))\n",
    "    y = day_list\n",
    "    degree = 1\n",
    "    weights = np. polyfit (x,y, degree)\n",
    "    model= np. poly1d (weights)\n",
    "    predicted= model(x)\n",
    "    sse = (len(day_list)-2) * mean_squared_error(y, predicted)\n",
    "    \n",
    "    sse_sums = []\n",
    "    for k in range(2,len(day_list)-1):\n",
    "        x1 = np.array(range(k))\n",
    "        y1 = day_list[0:k]\n",
    "        degree = 1\n",
    "        weights_1 = np. polyfit (x1,y1, degree)\n",
    "        model_1= np. poly1d (weights_1)\n",
    "        predicted_1= model_1(x1)\n",
    "        sse1 = (k-2)* mean_squared_error(y1, predicted_1)\n",
    "        \n",
    "        x2 = np.array(range(k,len(day_list)))\n",
    "        y2 = day_list[k:]\n",
    "        degree = 1\n",
    "        weights_2 = np. polyfit (x2,y2, degree)\n",
    "        model_2= np. poly1d (weights_2)\n",
    "        predicted_2= model_2(x2)\n",
    "        sse2 = (len(day_list) - k -2 ) * mean_squared_error(y2, predicted_2)\n",
    "        \n",
    "        sse_sum = sse1+sse2\n",
    "           \n",
    "\n",
    "        sse_sums.append(sse_sum)\n",
    "    result = np.array(sse_sums)\n",
    "    sse1_2_min = result.min()\n",
    "\n",
    "    day = np.argsort(result)[0]+2\n",
    "    f_statistics = ((sse-sse1_2_min) / 2 )*((len(day_list) - 4)/ sse1_2_min)\n",
    "    p_value = 1 - fisher_f.cdf (f_statistics ,2, len(day_list) -4)\n",
    "    if p_value < 0.1:\n",
    "        s = 'two regression line provide a significantly better fit than one'\n",
    "    else:\n",
    "        s = 'two regression line do not provide a significantly better fit than one'\n",
    "    \n",
    "    print('month: %d, condidate day is : %d , f_statistics is : %f ,p_value is: %f, %s'%(i+1,day,f_statistics,p_value,s))\n"
   ]
  },
  {
   "cell_type": "code",
   "execution_count": null,
   "metadata": {},
   "outputs": [],
   "source": [
    "#12 months exhibit signicant price changes for my sotck ticker.\n"
   ]
  },
  {
   "cell_type": "code",
   "execution_count": null,
   "metadata": {},
   "outputs": [],
   "source": [
    "#year 1 and year 2 have same changes."
   ]
  }
 ],
 "metadata": {
  "kernelspec": {
   "display_name": "Python 3",
   "language": "python",
   "name": "python3"
  },
  "language_info": {
   "codemirror_mode": {
    "name": "ipython",
    "version": 3
   },
   "file_extension": ".py",
   "mimetype": "text/x-python",
   "name": "python",
   "nbconvert_exporter": "python",
   "pygments_lexer": "ipython3",
   "version": "3.8.3"
  }
 },
 "nbformat": 4,
 "nbformat_minor": 4
}
