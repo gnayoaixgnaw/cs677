{
 "cells": [
  {
   "cell_type": "code",
   "execution_count": 112,
   "metadata": {},
   "outputs": [],
   "source": [
    "import pandas as pd\n",
    "import numpy as np\n",
    "import seaborn as sns"
   ]
  },
  {
   "cell_type": "code",
   "execution_count": 113,
   "metadata": {},
   "outputs": [],
   "source": [
    "data = pd.read_csv('heart_failure_clinical_records_dataset.csv')\n",
    "df_four_0 = data[(data.DEATH_EVENT == 0)]\n",
    "df_four_1 = data[(data.DEATH_EVENT == 1)]\n",
    "\n",
    "\n",
    "df_0 = df_four_0[['creatinine_phosphokinase','serum_creatinine','serum_sodium','platelets']]\n",
    "df_1 = df_four_1[['creatinine_phosphokinase','serum_creatinine','serum_sodium','platelets']]"
   ]
  },
  {
   "cell_type": "code",
   "execution_count": 114,
   "metadata": {},
   "outputs": [
    {
     "data": {
      "text/html": [
       "<div>\n",
       "<style scoped>\n",
       "    .dataframe tbody tr th:only-of-type {\n",
       "        vertical-align: middle;\n",
       "    }\n",
       "\n",
       "    .dataframe tbody tr th {\n",
       "        vertical-align: top;\n",
       "    }\n",
       "\n",
       "    .dataframe thead th {\n",
       "        text-align: right;\n",
       "    }\n",
       "</style>\n",
       "<table border=\"1\" class=\"dataframe\">\n",
       "  <thead>\n",
       "    <tr style=\"text-align: right;\">\n",
       "      <th></th>\n",
       "      <th>creatinine_phosphokinase</th>\n",
       "      <th>serum_creatinine</th>\n",
       "      <th>serum_sodium</th>\n",
       "      <th>platelets</th>\n",
       "    </tr>\n",
       "  </thead>\n",
       "  <tbody>\n",
       "    <tr>\n",
       "      <th>14</th>\n",
       "      <td>80</td>\n",
       "      <td>1.0</td>\n",
       "      <td>138</td>\n",
       "      <td>427000.0</td>\n",
       "    </tr>\n",
       "    <tr>\n",
       "      <th>20</th>\n",
       "      <td>52</td>\n",
       "      <td>1.3</td>\n",
       "      <td>137</td>\n",
       "      <td>276000.0</td>\n",
       "    </tr>\n",
       "    <tr>\n",
       "      <th>23</th>\n",
       "      <td>63</td>\n",
       "      <td>0.8</td>\n",
       "      <td>135</td>\n",
       "      <td>368000.0</td>\n",
       "    </tr>\n",
       "    <tr>\n",
       "      <th>33</th>\n",
       "      <td>159</td>\n",
       "      <td>1.2</td>\n",
       "      <td>138</td>\n",
       "      <td>302000.0</td>\n",
       "    </tr>\n",
       "    <tr>\n",
       "      <th>38</th>\n",
       "      <td>2656</td>\n",
       "      <td>2.3</td>\n",
       "      <td>137</td>\n",
       "      <td>305000.0</td>\n",
       "    </tr>\n",
       "    <tr>\n",
       "      <th>...</th>\n",
       "      <td>...</td>\n",
       "      <td>...</td>\n",
       "      <td>...</td>\n",
       "      <td>...</td>\n",
       "    </tr>\n",
       "    <tr>\n",
       "      <th>294</th>\n",
       "      <td>61</td>\n",
       "      <td>1.1</td>\n",
       "      <td>143</td>\n",
       "      <td>155000.0</td>\n",
       "    </tr>\n",
       "    <tr>\n",
       "      <th>295</th>\n",
       "      <td>1820</td>\n",
       "      <td>1.2</td>\n",
       "      <td>139</td>\n",
       "      <td>270000.0</td>\n",
       "    </tr>\n",
       "    <tr>\n",
       "      <th>296</th>\n",
       "      <td>2060</td>\n",
       "      <td>0.8</td>\n",
       "      <td>138</td>\n",
       "      <td>742000.0</td>\n",
       "    </tr>\n",
       "    <tr>\n",
       "      <th>297</th>\n",
       "      <td>2413</td>\n",
       "      <td>1.4</td>\n",
       "      <td>140</td>\n",
       "      <td>140000.0</td>\n",
       "    </tr>\n",
       "    <tr>\n",
       "      <th>298</th>\n",
       "      <td>196</td>\n",
       "      <td>1.6</td>\n",
       "      <td>136</td>\n",
       "      <td>395000.0</td>\n",
       "    </tr>\n",
       "  </tbody>\n",
       "</table>\n",
       "<p>203 rows × 4 columns</p>\n",
       "</div>"
      ],
      "text/plain": [
       "     creatinine_phosphokinase  serum_creatinine  serum_sodium  platelets\n",
       "14                         80               1.0           138   427000.0\n",
       "20                         52               1.3           137   276000.0\n",
       "23                         63               0.8           135   368000.0\n",
       "33                        159               1.2           138   302000.0\n",
       "38                       2656               2.3           137   305000.0\n",
       "..                        ...               ...           ...        ...\n",
       "294                        61               1.1           143   155000.0\n",
       "295                      1820               1.2           139   270000.0\n",
       "296                      2060               0.8           138   742000.0\n",
       "297                      2413               1.4           140   140000.0\n",
       "298                       196               1.6           136   395000.0\n",
       "\n",
       "[203 rows x 4 columns]"
      ]
     },
     "execution_count": 114,
     "metadata": {},
     "output_type": "execute_result"
    }
   ],
   "source": [
    "df_0"
   ]
  },
  {
   "cell_type": "code",
   "execution_count": 115,
   "metadata": {},
   "outputs": [
    {
     "data": {
      "text/html": [
       "<div>\n",
       "<style scoped>\n",
       "    .dataframe tbody tr th:only-of-type {\n",
       "        vertical-align: middle;\n",
       "    }\n",
       "\n",
       "    .dataframe tbody tr th {\n",
       "        vertical-align: top;\n",
       "    }\n",
       "\n",
       "    .dataframe thead th {\n",
       "        text-align: right;\n",
       "    }\n",
       "</style>\n",
       "<table border=\"1\" class=\"dataframe\">\n",
       "  <thead>\n",
       "    <tr style=\"text-align: right;\">\n",
       "      <th></th>\n",
       "      <th>creatinine_phosphokinase</th>\n",
       "      <th>serum_creatinine</th>\n",
       "      <th>serum_sodium</th>\n",
       "      <th>platelets</th>\n",
       "    </tr>\n",
       "  </thead>\n",
       "  <tbody>\n",
       "    <tr>\n",
       "      <th>0</th>\n",
       "      <td>582</td>\n",
       "      <td>1.90</td>\n",
       "      <td>130</td>\n",
       "      <td>265000.00</td>\n",
       "    </tr>\n",
       "    <tr>\n",
       "      <th>1</th>\n",
       "      <td>7861</td>\n",
       "      <td>1.10</td>\n",
       "      <td>136</td>\n",
       "      <td>263358.03</td>\n",
       "    </tr>\n",
       "    <tr>\n",
       "      <th>2</th>\n",
       "      <td>146</td>\n",
       "      <td>1.30</td>\n",
       "      <td>129</td>\n",
       "      <td>162000.00</td>\n",
       "    </tr>\n",
       "    <tr>\n",
       "      <th>3</th>\n",
       "      <td>111</td>\n",
       "      <td>1.90</td>\n",
       "      <td>137</td>\n",
       "      <td>210000.00</td>\n",
       "    </tr>\n",
       "    <tr>\n",
       "      <th>4</th>\n",
       "      <td>160</td>\n",
       "      <td>2.70</td>\n",
       "      <td>116</td>\n",
       "      <td>327000.00</td>\n",
       "    </tr>\n",
       "    <tr>\n",
       "      <th>...</th>\n",
       "      <td>...</td>\n",
       "      <td>...</td>\n",
       "      <td>...</td>\n",
       "      <td>...</td>\n",
       "    </tr>\n",
       "    <tr>\n",
       "      <th>220</th>\n",
       "      <td>582</td>\n",
       "      <td>1.83</td>\n",
       "      <td>134</td>\n",
       "      <td>263358.03</td>\n",
       "    </tr>\n",
       "    <tr>\n",
       "      <th>230</th>\n",
       "      <td>166</td>\n",
       "      <td>1.70</td>\n",
       "      <td>127</td>\n",
       "      <td>62000.00</td>\n",
       "    </tr>\n",
       "    <tr>\n",
       "      <th>246</th>\n",
       "      <td>2017</td>\n",
       "      <td>1.10</td>\n",
       "      <td>138</td>\n",
       "      <td>314000.00</td>\n",
       "    </tr>\n",
       "    <tr>\n",
       "      <th>262</th>\n",
       "      <td>258</td>\n",
       "      <td>1.40</td>\n",
       "      <td>129</td>\n",
       "      <td>198000.00</td>\n",
       "    </tr>\n",
       "    <tr>\n",
       "      <th>266</th>\n",
       "      <td>1199</td>\n",
       "      <td>1.83</td>\n",
       "      <td>134</td>\n",
       "      <td>263358.03</td>\n",
       "    </tr>\n",
       "  </tbody>\n",
       "</table>\n",
       "<p>96 rows × 4 columns</p>\n",
       "</div>"
      ],
      "text/plain": [
       "     creatinine_phosphokinase  serum_creatinine  serum_sodium  platelets\n",
       "0                         582              1.90           130  265000.00\n",
       "1                        7861              1.10           136  263358.03\n",
       "2                         146              1.30           129  162000.00\n",
       "3                         111              1.90           137  210000.00\n",
       "4                         160              2.70           116  327000.00\n",
       "..                        ...               ...           ...        ...\n",
       "220                       582              1.83           134  263358.03\n",
       "230                       166              1.70           127   62000.00\n",
       "246                      2017              1.10           138  314000.00\n",
       "262                       258              1.40           129  198000.00\n",
       "266                      1199              1.83           134  263358.03\n",
       "\n",
       "[96 rows x 4 columns]"
      ]
     },
     "execution_count": 115,
     "metadata": {},
     "output_type": "execute_result"
    }
   ],
   "source": [
    "df_1"
   ]
  },
  {
   "cell_type": "code",
   "execution_count": 116,
   "metadata": {},
   "outputs": [
    {
     "data": {
      "image/png": "[encoded data removed]",
      "text/plain": [
       "<Figure size 432x288 with 2 Axes>"
      ]
     },
     "metadata": {
      "needs_background": "light"
     },
     "output_type": "display_data"
    }
   ],
   "source": [
    "corr_0 = df_0.corr()\n",
    "fig = sns.heatmap(corr_0, cmap='Blues', annot=True)\n",
    "heatmap = fig.get_figure()\n",
    "heatmap.savefig(\"M0.png\")\n"
   ]
  },
  {
   "cell_type": "code",
   "execution_count": 117,
   "metadata": {},
   "outputs": [
    {
     "data": {
      "image/png": "[encoded data removed]",
      "text/plain": [
       "<Figure size 432x288 with 2 Axes>"
      ]
     },
     "metadata": {
      "needs_background": "light"
     },
     "output_type": "display_data"
    }
   ],
   "source": [
    "corr_1 = df_1.corr()\n",
    "fig = sns.heatmap(corr_1, cmap='Blues', annot=True)\n",
    "heatmap = fig.get_figure()\n",
    "heatmap.savefig(\"M1.png\")"
   ]
  },
  {
   "cell_type": "code",
   "execution_count": 300,
   "metadata": {},
   "outputs": [],
   "source": [
    "#question 1.3 (a) platelets and serum_sodium have the highest correlation \n",
    "#             (b) serum_creatinine and serum_sodium have the lowest correlation\n",
    "#             (c) serum_sodium and creatinine_phosphokinase have the highest correlation\n",
    "#             (d) serum_sodium and serum_creatinine have the lowest correlation\n",
    "#             (e) different in both case"
   ]
  },
  {
   "cell_type": "code",
   "execution_count": 301,
   "metadata": {},
   "outputs": [],
   "source": [
    "# X: platelets  Y: serum_creatinine"
   ]
  },
  {
   "cell_type": "code",
   "execution_count": 302,
   "metadata": {},
   "outputs": [],
   "source": [
    "import numpy as np\n",
    "import matplotlib.pyplot as plt\n",
    "\n",
    "from sklearn.metrics import mean_squared_error , r2_score\n",
    "from sklearn.model_selection import train_test_split"
   ]
  },
  {
   "cell_type": "code",
   "execution_count": 303,
   "metadata": {},
   "outputs": [],
   "source": [
    "#DEATH_EVENT = 0\n",
    "\n",
    "x = np. array (df_0['platelets'].tolist())\n",
    "y = np. array (df_0['serum_creatinine'].tolist())\n",
    "\n",
    "x_train, x_test, y_train, y_test = train_test_split(x, y, test_size=0.5, random_state=3)\n",
    "sse_0 = []"
   ]
  },
  {
   "cell_type": "code",
   "execution_count": 304,
   "metadata": {},
   "outputs": [
    {
     "name": "stdout",
     "output_type": "stream",
     "text": [
      "weights : [4.02639863e-07 1.06037603e+00]\n",
      "43.19360315654794\n"
     ]
    },
    {
     "data": {
      "image/png": "[encoded data removed]",
      "text/plain": [
       "<Figure size 432x288 with 1 Axes>"
      ]
     },
     "metadata": {
      "needs_background": "light"
     },
     "output_type": "display_data"
    }
   ],
   "source": [
    "#DEATH_EVENT = 0\n",
    "#y = ax + b\n",
    "\n",
    "degree = 1\n",
    "weights = np. polyfit (x_train,y_train, degree )\n",
    "model = np. poly1d (weights)\n",
    "print('weights :', weights)\n",
    "predicted = model (x_test)\n",
    "plt.scatter(x_test, y_test, s=20, c=\"green\", marker='o')\n",
    "plt.scatter(x_test, predicted, s=20, c=\"red\", marker='o')\n",
    "# sse = mean_squared_error (y_test, predicted) * (len(y_test)-2)\n",
    "sse = np.square(y_test - predicted).sum()\n",
    "sse_0.append(sse)\n",
    "print(sse)\n",
    "\n"
   ]
  },
  {
   "cell_type": "code",
   "execution_count": 305,
   "metadata": {},
   "outputs": [
    {
     "name": "stdout",
     "output_type": "stream",
     "text": [
      "weights : [ 1.50994138e-12 -5.06535690e-07  1.18369554e+00]\n",
      "43.70359771235248\n"
     ]
    },
    {
     "data": {
      "image/png": "[encoded data removed]",
      "text/plain": [
       "<Figure size 432x288 with 1 Axes>"
      ]
     },
     "metadata": {
      "needs_background": "light"
     },
     "output_type": "display_data"
    }
   ],
   "source": [
    "#DEATH_EVENT = 0\n",
    "#y = ax2 + bx + c\n",
    "degree = 2\n",
    "weights = np. polyfit (x_train,y_train, degree )\n",
    "model = np. poly1d (weights)\n",
    "print('weights :', weights)\n",
    "predicted = model (x_test)\n",
    "plt.scatter(x_test, y_test, s=20, c=\"green\", marker='o')\n",
    "plt.scatter(x_test, predicted, s=20, c=\"red\", marker='o')\n",
    "# sse = mean_squared_error (y_test, predicted) * (len(y_test)-2)\n",
    "sse = np.square(y_test - predicted).sum()\n",
    "sse_0.append(sse)\n",
    "\n",
    "print(sse)"
   ]
  },
  {
   "cell_type": "code",
   "execution_count": 306,
   "metadata": {},
   "outputs": [
    {
     "name": "stdout",
     "output_type": "stream",
     "text": [
      "weights : [ 7.50990313e-17 -6.80102715e-11  1.88517579e-05 -4.26111132e-01]\n",
      "209.50171804678774\n"
     ]
    },
    {
     "data": {
      "image/png": "[encoded data removed]",
      "text/plain": [
       "<Figure size 432x288 with 1 Axes>"
      ]
     },
     "metadata": {
      "needs_background": "light"
     },
     "output_type": "display_data"
    }
   ],
   "source": [
    "#DEATH_EVENT = 0\n",
    "#y = ax3 + bx2 + cx + d\n",
    "degree = 3\n",
    "weights = np. polyfit (x_train,y_train, degree )\n",
    "model = np. poly1d (weights)\n",
    "print('weights :', weights)\n",
    "predicted = model (x_test)\n",
    "plt.scatter(x_test, y_test, s=20, c=\"green\", marker='o')\n",
    "plt.scatter(x_test, predicted, s=20, c=\"red\", marker='o')\n",
    "# sse = mean_squared_error (y_test, predicted) * (len(y_test)-2)\n",
    "sse = np.square(y_test - predicted).sum()\n",
    "sse_0.append(sse)\n",
    "\n",
    "print(sse)"
   ]
  },
  {
   "cell_type": "code",
   "execution_count": 307,
   "metadata": {
    "scrolled": true
   },
   "outputs": [],
   "source": [
    "# #DEATH_EVENT = 0\n",
    "# #y = a log x + b\n",
    "# degree = 1\n",
    "# x_train_1 = np.log(x_train)\n",
    "# x_test_1 = np.log(x_test)\n",
    "# weights = np. polyfit (x_train_1,y_train, degree )\n",
    "# model = np. poly1d (weights)\n",
    "# print('simple :', weights)\n",
    "# predicted = model (x_test_1)\n",
    "# plt.scatter(x_test, y_test, s=20, c=\"green\", marker='o')\n",
    "# plt.scatter(x_test, predicted, s=20, c=\"red\", marker='o')\n",
    "# # sse = mean_squared_error (y_test, predicted) * (len(y_test)-2)\n",
    "# sse = np.square(y_test - predicted).sum()\n",
    "# sse_0.append(sse)\n",
    "\n",
    "# print(sse)"
   ]
  },
  {
   "cell_type": "code",
   "execution_count": 308,
   "metadata": {},
   "outputs": [
    {
     "name": "stdout",
     "output_type": "stream",
     "text": [
      "weights : [ 0.1148593 -0.2608914]\n",
      "43.440446591482726\n"
     ]
    },
    {
     "data": {
      "image/png": "[encoded data removed]",
      "text/plain": [
       "<Figure size 432x288 with 1 Axes>"
      ]
     },
     "metadata": {
      "needs_background": "light"
     },
     "output_type": "display_data"
    }
   ],
   "source": [
    "#DEATH_EVENT = 0\n",
    "#y = a log x + b\n",
    "x = np. array (df_0['platelets'].tolist())\n",
    "y = np. array (df_0['serum_creatinine'].tolist())\n",
    "x = np.log(x)\n",
    "x_train, x_test, y_train, y_test = train_test_split(x, y, test_size=0.5, random_state=3)\n",
    "\n",
    "degree = 1\n",
    "\n",
    "weights = np. polyfit (x_train,y_train, degree )\n",
    "model = np. poly1d (weights)\n",
    "print('weights :', weights)\n",
    "predicted = model (x_test)\n",
    "plt.scatter(x_test, y_test, s=20, c=\"green\", marker='o')\n",
    "plt.scatter(x_test, predicted, s=20, c=\"red\", marker='o')\n",
    "# sse = mean_squared_error (y_test, predicted) * (len(y_test)-2)\n",
    "sse = np.square(y_test - predicted).sum()\n",
    "sse_0.append(sse)\n",
    "\n",
    "print(sse)"
   ]
  },
  {
   "cell_type": "code",
   "execution_count": 309,
   "metadata": {},
   "outputs": [],
   "source": [
    "# #DEATH_EVENT = 0\n",
    "# #log y = a log x + b\n",
    "# degree = 1\n",
    "# x_train_1 = np.log(x_train)\n",
    "# y_train_1 = np.log(y_train)\n",
    "# x_test_1 = np.log(x_test)\n",
    "# y_test_1 = np.log(y_test)\n",
    "# weights = np. polyfit (x_train_1,y_train_1, degree )\n",
    "# model = np. poly1d (weights)\n",
    "# print('simple :', weights)\n",
    "# predicted = model (x_test_1)\n",
    "# predicted_1 = np.e**predicted\n",
    "# plt.scatter(x_test, y_test, s=20, c=\"green\", marker='o')\n",
    "# plt.scatter(x_test, predicted_1, s=20, c=\"red\", marker='o')\n",
    "# # sse = mean_squared_error (y_test, predicted_1) * (len(y_test)-2)\n",
    "# sse = np.square(y_test - predicted_1).sum()\n",
    "# sse_0.append(sse)\n",
    "\n",
    "# print(sse)"
   ]
  },
  {
   "cell_type": "code",
   "execution_count": 310,
   "metadata": {},
   "outputs": [
    {
     "name": "stdout",
     "output_type": "stream",
     "text": [
      "weights : [ 0.07468799 -0.85121517]\n",
      "15.491565611458643\n"
     ]
    },
    {
     "data": {
      "image/png": "[encoded data removed]",
      "text/plain": [
       "<Figure size 432x288 with 1 Axes>"
      ]
     },
     "metadata": {
      "needs_background": "light"
     },
     "output_type": "display_data"
    }
   ],
   "source": [
    "#DEATH_EVENT = 0\n",
    "#log y = a log x + b\n",
    "x = np. array (df_0['platelets'].tolist())\n",
    "y = np. array (df_0['serum_creatinine'].tolist())\n",
    "x = np.log(x)\n",
    "y = np.log(y)\n",
    "x_train, x_test, y_train, y_test = train_test_split(x, y, test_size=0.5, random_state=3)\n",
    "\n",
    "degree = 1\n",
    "\n",
    "weights = np. polyfit (x_train,y_train, degree )\n",
    "model = np. poly1d (weights)\n",
    "print('weights :', weights)\n",
    "predicted = model (x_test)\n",
    "plt.scatter(x_test, y_test, s=20, c=\"green\", marker='o')\n",
    "plt.scatter(x_test, predicted, s=20, c=\"red\", marker='o')\n",
    "# sse = mean_squared_error (y_test, predicted_1) * (len(y_test)-2)\n",
    "sse = np.square(y_test - predicted).sum()\n",
    "sse_0.append(sse)\n",
    "\n",
    "print(sse)"
   ]
  },
  {
   "cell_type": "code",
   "execution_count": 311,
   "metadata": {},
   "outputs": [],
   "source": [
    "x = np. array (df_1['platelets'].tolist())\n",
    "y = np. array (df_1['serum_creatinine'].tolist())\n",
    "\n",
    "x_train, x_test, y_train, y_test = train_test_split(x, y, test_size=0.5, random_state=3)\n",
    "sse_1 = []\n"
   ]
  },
  {
   "cell_type": "code",
   "execution_count": 312,
   "metadata": {},
   "outputs": [
    {
     "name": "stdout",
     "output_type": "stream",
     "text": [
      "weights : [-1.51940239e-06  2.09173439e+00]\n",
      "133.03634456660936\n"
     ]
    },
    {
     "data": {
      "image/png": "[encoded data removed]",
      "text/plain": [
       "<Figure size 432x288 with 1 Axes>"
      ]
     },
     "metadata": {
      "needs_background": "light"
     },
     "output_type": "display_data"
    }
   ],
   "source": [
    "#DEATH_EVENT = 1\n",
    "\n",
    "#y = ax + b\n",
    "degree = 1\n",
    "weights = np. polyfit (x_train,y_train, degree )\n",
    "model = np. poly1d (weights)\n",
    "print('weights :', weights)\n",
    "predicted = model (x_test)\n",
    "plt.scatter(x_test, y_test, s=20, c=\"green\", marker='o')\n",
    "plt.scatter(x_test, predicted, s=20, c=\"red\", marker='o')\n",
    "# sse = mean_squared_error (y_test, predicted) * (len(y_test)-2)\n",
    "sse = np.square(y_test - predicted).sum()\n",
    "sse_1.append(sse)\n",
    "\n",
    "print(sse)"
   ]
  },
  {
   "cell_type": "code",
   "execution_count": 313,
   "metadata": {},
   "outputs": [
    {
     "name": "stdout",
     "output_type": "stream",
     "text": [
      "weights : [ 5.71596884e-12 -5.03607513e-06  2.55562988e+00]\n",
      "134.18431837659628\n"
     ]
    },
    {
     "data": {
      "image/png": "[encoded data removed]",
      "text/plain": [
       "<Figure size 432x288 with 1 Axes>"
      ]
     },
     "metadata": {
      "needs_background": "light"
     },
     "output_type": "display_data"
    }
   ],
   "source": [
    "#DEATH_EVENT = 1\n",
    "#y = ax2 + bx + c\n",
    "degree = 2\n",
    "weights = np. polyfit (x_train,y_train, degree )\n",
    "model = np. poly1d (weights)\n",
    "print('weights :', weights)\n",
    "predicted = model (x_test)\n",
    "plt.scatter(x_test, y_test, s=20, c=\"green\", marker='o')\n",
    "plt.scatter(x_test, predicted, s=20, c=\"red\", marker='o')\n",
    "# sse = mean_squared_error (y_test, predicted) * (len(y_test)-2)\n",
    "sse = np.square(y_test - predicted).sum()\n",
    "sse_1.append(sse)\n",
    "\n",
    "print(sse)"
   ]
  },
  {
   "cell_type": "code",
   "execution_count": 314,
   "metadata": {},
   "outputs": [
    {
     "name": "stdout",
     "output_type": "stream",
     "text": [
      "weights : [ 1.07526955e-17 -4.83814953e-12 -2.06085971e-06  2.31930925e+00]\n",
      "134.571892181417\n"
     ]
    },
    {
     "data": {
      "image/png": "[encoded data removed]",
      "text/plain": [
       "<Figure size 432x288 with 1 Axes>"
      ]
     },
     "metadata": {
      "needs_background": "light"
     },
     "output_type": "display_data"
    }
   ],
   "source": [
    "#DEATH_EVENT = 1\n",
    "#y = ax3 + bx2 + cx + d\n",
    "degree = 3\n",
    "weights = np. polyfit (x_train,y_train, degree )\n",
    "model = np. poly1d (weights)\n",
    "print('weights :', weights)\n",
    "predicted = model (x_test)\n",
    "plt.scatter(x_test, y_test, s=20, c=\"green\", marker='o')\n",
    "plt.scatter(x_test, predicted, s=20, c=\"red\", marker='o')\n",
    "# sse = mean_squared_error (y_test, predicted) * (len(y_test)-2)\n",
    "sse = np.square(y_test - predicted).sum()\n",
    "sse_1.append(sse)\n",
    "\n",
    "print(sse)\n"
   ]
  },
  {
   "cell_type": "code",
   "execution_count": 315,
   "metadata": {},
   "outputs": [],
   "source": [
    "# #DEATH_EVENT = 1\n",
    "# #y = a log x + b\n",
    "\n",
    "# degree = 1\n",
    "# x_train_1 = np.log(x_train)\n",
    "# x_test_1 = np.log(x_test)\n",
    "# weights = np. polyfit (x_train_1,y_train, degree )\n",
    "# model = np. poly1d (weights)\n",
    "# print('simple :', weights)\n",
    "# predicted = model (x_test_1)\n",
    "# plt.scatter(x_test, y_test, s=20, c=\"green\", marker='o')\n",
    "# plt.scatter(x_test, predicted, s=20, c=\"red\", marker='o')\n",
    "# # sse = mean_squared_error (y_test, predicted) * (len(y_test)-2)\n",
    "# sse = np.square(y_test - predicted).sum()\n",
    "# sse_1.append(sse)\n",
    "\n",
    "# print(sse)"
   ]
  },
  {
   "cell_type": "code",
   "execution_count": 316,
   "metadata": {},
   "outputs": [
    {
     "name": "stdout",
     "output_type": "stream",
     "text": [
      "weights : [-0.36611668  6.22913955]\n",
      "133.22980658041539\n"
     ]
    },
    {
     "data": {
      "image/png": "[encoded data removed]",
      "text/plain": [
       "<Figure size 432x288 with 1 Axes>"
      ]
     },
     "metadata": {
      "needs_background": "light"
     },
     "output_type": "display_data"
    }
   ],
   "source": [
    "#DEATH_EVENT = 1\n",
    "#y = a log x + b\n",
    "x = np. array (df_1['platelets'].tolist())\n",
    "y = np. array (df_1['serum_creatinine'].tolist())\n",
    "x = np.log(x)\n",
    "x_train, x_test, y_train, y_test = train_test_split(x, y, test_size=0.5, random_state=3)\n",
    "\n",
    "degree = 1\n",
    "\n",
    "weights = np. polyfit (x_train,y_train, degree )\n",
    "model = np. poly1d (weights)\n",
    "print('weights :', weights)\n",
    "predicted = model (x_test)\n",
    "plt.scatter(x_test, y_test, s=20, c=\"green\", marker='o')\n",
    "plt.scatter(x_test, predicted, s=20, c=\"red\", marker='o')\n",
    "# sse = mean_squared_error (y_test, predicted) * (len(y_test)-2)\n",
    "sse = np.square(y_test - predicted).sum()\n",
    "sse_1.append(sse)\n",
    "\n",
    "print(sse)"
   ]
  },
  {
   "cell_type": "code",
   "execution_count": 317,
   "metadata": {},
   "outputs": [],
   "source": [
    "# #DEATH_EVENT = 1\n",
    "# #log y = a log x + b\n",
    "# degree = 1\n",
    "# x_train_1 = np.log(x_train)\n",
    "# y_train_1 = np.log(y_train)\n",
    "# x_test_1 = np.log(x_test)\n",
    "# y_test_1 = np.log(y_test)\n",
    "# weights = np. polyfit (x_train_1,y_train_1, degree )\n",
    "# model = np. poly1d (weights)\n",
    "# print('simple :', weights)\n",
    "# predicted = model (x_test_1)\n",
    "# predicted_1 = np.e**predicted\n",
    "# plt.scatter(x_test, y_test, s=20, c=\"green\", marker='o')\n",
    "# plt.scatter(x_test, predicted_1, s=20, c=\"red\", marker='o')\n",
    "# # sse = mean_squared_error (y_test, predicted_1) * (len(y_test)-2)\n",
    "# sse = np.square(y_test - predicted_1).sum()\n",
    "# sse_1.append(sse)\n",
    "\n",
    "# print(sse)"
   ]
  },
  {
   "cell_type": "code",
   "execution_count": 318,
   "metadata": {},
   "outputs": [
    {
     "name": "stdout",
     "output_type": "stream",
     "text": [
      "weights : [-0.12926892  1.98638421]\n",
      "15.587022638415823\n"
     ]
    },
    {
     "data": {
      "image/png": "[encoded data removed]",
      "text/plain": [
       "<Figure size 432x288 with 1 Axes>"
      ]
     },
     "metadata": {
      "needs_background": "light"
     },
     "output_type": "display_data"
    }
   ],
   "source": [
    "#DEATH_EVENT = 1\n",
    "#log y = a log x + b\n",
    "x = np. array (df_1['platelets'].tolist())\n",
    "y = np. array (df_1['serum_creatinine'].tolist())\n",
    "x = np.log(x)\n",
    "y = np.log(y)\n",
    "x_train, x_test, y_train, y_test = train_test_split(x, y, test_size=0.5, random_state=3)\n",
    "\n",
    "degree = 1\n",
    "\n",
    "weights = np. polyfit (x_train,y_train, degree )\n",
    "model = np. poly1d (weights)\n",
    "print('weights :', weights)\n",
    "predicted = model (x_test)\n",
    "plt.scatter(x_test, y_test, s=20, c=\"green\", marker='o')\n",
    "plt.scatter(x_test, predicted, s=20, c=\"red\", marker='o')\n",
    "# sse = mean_squared_error (y_test, predicted_1) * (len(y_test)-2)\n",
    "sse = np.square(y_test - predicted).sum()\n",
    "sse_1.append(sse)\n",
    "\n",
    "print(sse)"
   ]
  },
  {
   "cell_type": "code",
   "execution_count": 321,
   "metadata": {},
   "outputs": [
    {
     "data": {
      "text/html": [
       "<div>\n",
       "<style scoped>\n",
       "    .dataframe tbody tr th:only-of-type {\n",
       "        vertical-align: middle;\n",
       "    }\n",
       "\n",
       "    .dataframe tbody tr th {\n",
       "        vertical-align: top;\n",
       "    }\n",
       "\n",
       "    .dataframe thead th {\n",
       "        text-align: right;\n",
       "    }\n",
       "</style>\n",
       "<table border=\"1\" class=\"dataframe\">\n",
       "  <thead>\n",
       "    <tr style=\"text-align: right;\">\n",
       "      <th></th>\n",
       "      <th>model</th>\n",
       "      <th>SSE(death_event=0)</th>\n",
       "      <th>SSE(death_event=1)</th>\n",
       "    </tr>\n",
       "  </thead>\n",
       "  <tbody>\n",
       "    <tr>\n",
       "      <th>0</th>\n",
       "      <td>y = ax + b</td>\n",
       "      <td>43.193603</td>\n",
       "      <td>133.036345</td>\n",
       "    </tr>\n",
       "    <tr>\n",
       "      <th>1</th>\n",
       "      <td>y = ax2 + bx + c</td>\n",
       "      <td>43.703598</td>\n",
       "      <td>134.184318</td>\n",
       "    </tr>\n",
       "    <tr>\n",
       "      <th>2</th>\n",
       "      <td>y = ax3 + bx2 + cx + d</td>\n",
       "      <td>209.501718</td>\n",
       "      <td>134.571892</td>\n",
       "    </tr>\n",
       "    <tr>\n",
       "      <th>3</th>\n",
       "      <td>y = a log x + b</td>\n",
       "      <td>43.440447</td>\n",
       "      <td>133.229807</td>\n",
       "    </tr>\n",
       "    <tr>\n",
       "      <th>4</th>\n",
       "      <td>log y = a log x + b</td>\n",
       "      <td>15.491566</td>\n",
       "      <td>15.587023</td>\n",
       "    </tr>\n",
       "  </tbody>\n",
       "</table>\n",
       "</div>"
      ],
      "text/plain": [
       "                    model  SSE(death_event=0)  SSE(death_event=1)\n",
       "0              y = ax + b           43.193603          133.036345\n",
       "1        y = ax2 + bx + c           43.703598          134.184318\n",
       "2  y = ax3 + bx2 + cx + d          209.501718          134.571892\n",
       "3         y = a log x + b           43.440447          133.229807\n",
       "4     log y = a log x + b           15.491566           15.587023"
      ]
     },
     "execution_count": 321,
     "metadata": {},
     "output_type": "execute_result"
    }
   ],
   "source": [
    "model = ['y = ax + b','y = ax2 + bx + c','y = ax3 + bx2 + cx + d','y = a log x + b','log y = a log x + b']\n",
    "df = pd.DataFrame({'model':model,'SSE(death_event=0)':sse_0,'SSE(death_event=1)':sse_1})\n",
    "df"
   ]
  },
  {
   "cell_type": "code",
   "execution_count": 320,
   "metadata": {},
   "outputs": [],
   "source": [
    "#for ssurviving patients , logy = alogx+b is best, y = ax3 + bx2 + cx + d\t is worst\n",
    "#for deceased patients, logy = alogx+b is best, y = ax3 + bx2 + cx + d\t is worst\n"
   ]
  },
  {
   "cell_type": "code",
   "execution_count": null,
   "metadata": {},
   "outputs": [],
   "source": [
    "s"
   ]
  }
 ],
 "metadata": {
  "kernelspec": {
   "display_name": "Python 3",
   "language": "python",
   "name": "python3"
  },
  "language_info": {
   "codemirror_mode": {
    "name": "ipython",
    "version": 3
   },
   "file_extension": ".py",
   "mimetype": "text/x-python",
   "name": "python",
   "nbconvert_exporter": "python",
   "pygments_lexer": "ipython3",
   "version": "3.8.3"
  }
 },
 "nbformat": 4,
 "nbformat_minor": 4
}
