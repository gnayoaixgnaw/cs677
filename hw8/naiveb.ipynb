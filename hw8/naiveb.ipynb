{
 "cells": [
  {
   "cell_type": "code",
   "execution_count": 61,
   "metadata": {},
   "outputs": [],
   "source": [
    "import pandas as pd\n",
    "import numpy as np\n",
    "import matplotlib.pyplot as plt\n",
    "from sklearn.naive_bayes import GaussianNB\n",
    "from sklearn.metrics import confusion_matrix\n"
   ]
  },
  {
   "cell_type": "code",
   "execution_count": 62,
   "metadata": {},
   "outputs": [],
   "source": [
    "data = pd.read_csv('WMT1.csv')\n",
    "data_17 = data[data.Year == 2017]\n",
    "\n",
    "# calculate the mean std\n",
    "mean_17 = data_17.groupby('Week_Number')['Return'].mean().tolist()\n",
    "std_17 = data_17.groupby('Week_Number')['Return'].std().tolist()\n",
    "week_id_17 = list(data_17.groupby('Week_Number').indices.keys())\n",
    "color_17 = data_17.groupby('Week_Number')['label'].agg(lambda x: x.mode()).tolist()\n",
    "\n",
    "data_18 = data[data.Year == 2018]\n",
    "data_18.drop(data_18.index[-1], inplace=True)\n",
    "\n",
    "# calculate the mean std\n",
    "mean_18 = data_18.groupby('Week_Number')['Return'].mean().tolist()\n",
    "std_18 = data_18.groupby('Week_Number')['Return'].std().tolist()\n",
    "weekly_18 = data[(data.Year == 2018) & (data.Weekday == 'Friday')]['Adj Close'].values  # select Friday's data\n",
    "\n",
    "week_id_18 = list(data_18.groupby('Week_Number').indices.keys())\n",
    "color_18 = data_18.groupby('Week_Number')['label'].agg(lambda x: x.mode()).tolist()\n"
   ]
  },
  {
   "cell_type": "code",
   "execution_count": 63,
   "metadata": {},
   "outputs": [],
   "source": [
    "df_17 = pd.DataFrame(\n",
    "    {\n",
    "        'id':week_id_17,\n",
    "        'mean':mean_17,\n",
    "        'std':std_17,\n",
    "        'label':color_17\n",
    "    },\n",
    "    columns = ['id','mean','std','label']\n",
    ")\n",
    "\n",
    "df_18 = pd.DataFrame(\n",
    "    {\n",
    "        'id':week_id_18,\n",
    "        'mean':mean_18,\n",
    "        'std':std_18,\n",
    "        'label':color_18\n",
    "    },\n",
    "    columns = ['id','mean','std','label']\n",
    ")"
   ]
  },
  {
   "cell_type": "code",
   "execution_count": 64,
   "metadata": {},
   "outputs": [],
   "source": [
    "x_train = df_17[['mean','std']].values\n",
    "y_train= df_17['label'].values\n",
    "\n",
    "x_test = df_18[['mean','std']].values\n",
    "y_test = df_18['label'].values"
   ]
  },
  {
   "cell_type": "code",
   "execution_count": 65,
   "metadata": {},
   "outputs": [
    {
     "data": {
      "text/plain": [
       "0.8269230769230769"
      ]
     },
     "execution_count": 65,
     "metadata": {},
     "output_type": "execute_result"
    }
   ],
   "source": [
    "NB_classifier = GaussianNB().fit(x,y)\n",
    "prediction = NB_classifier.predict(x_test)\n",
    "\n",
    "acc = 1 - np.mean(prediction != y_test)\n",
    "acc # qusetion 1"
   ]
  },
  {
   "cell_type": "code",
   "execution_count": 66,
   "metadata": {},
   "outputs": [
    {
     "data": {
      "text/plain": [
       "array([[29,  2],\n",
       "       [ 7, 14]])"
      ]
     },
     "execution_count": 66,
     "metadata": {},
     "output_type": "execute_result"
    }
   ],
   "source": [
    "a = confusion_matrix(y_test, prediction)\n",
    "a # question 2"
   ]
  },
  {
   "cell_type": "code",
   "execution_count": 67,
   "metadata": {},
   "outputs": [
    {
     "name": "stdout",
     "output_type": "stream",
     "text": [
      "true positive rate is : 0.9354838709677419\n",
      "true negative rate is : 0.6666666666666666\n"
     ]
    }
   ],
   "source": [
    "TPR = a[0][0]/(a[0][0]+a[0][1])\n",
    "TNR = a[1][1]/(a[1][0]+a[1][1])\n",
    "print('true positive rate is :',TPR)\n",
    "print('true negative rate is :',TNR)\n"
   ]
  },
  {
   "cell_type": "code",
   "execution_count": 68,
   "metadata": {},
   "outputs": [],
   "source": [
    "previous_shares = 0\n",
    "previous_balance = 100\n",
    "weekly_balance = []\n",
    "for i in range(len(weekly_18)-1):\n",
    "    if prediction[i+1] == 'green':\n",
    "        if previous_shares ==0 :\n",
    "            previous_shares = previous_balance/weekly_18[i]\n",
    "    elif prediction[i+1] == 'red':\n",
    "        if previous_shares != 0:\n",
    "            previous_balance = previous_shares*weekly_18[i]\n",
    "            previous_shares = 0\n",
    "\n",
    "    weekly_balance.append(previous_balance)\n",
    "result1 = weekly_balance[-1]"
   ]
  },
  {
   "cell_type": "code",
   "execution_count": 69,
   "metadata": {},
   "outputs": [
    {
     "name": "stdout",
     "output_type": "stream",
     "text": [
      "result based on my labels: 93.111329 $\n",
      "result based on buy and hold: 94.188504 $\n",
      "buy and hold strategy results in a large amount at the end of the year\n"
     ]
    }
   ],
   "source": [
    "result2 = 100/weekly_18[0]*weekly_18[-1]\n",
    "\n",
    "print('result based on my labels: %f $'%result1)\n",
    "print('result based on buy and hold: %f $'%result2)\n",
    "print('buy and hold strategy results in a large amount at the end of the year')"
   ]
  }
 ],
 "metadata": {
  "kernelspec": {
   "display_name": "Python 3",
   "language": "python",
   "name": "python3"
  },
  "language_info": {
   "codemirror_mode": {
    "name": "ipython",
    "version": 3
   },
   "file_extension": ".py",
   "mimetype": "text/x-python",
   "name": "python",
   "nbconvert_exporter": "python",
   "pygments_lexer": "ipython3",
   "version": "3.8.3"
  }
 },
 "nbformat": 4,
 "nbformat_minor": 4
}
