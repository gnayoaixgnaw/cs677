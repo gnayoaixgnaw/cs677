{
 "cells": [
  {
   "cell_type": "code",
   "execution_count": 171,
   "metadata": {},
   "outputs": [],
   "source": [
    "import pandas as pd\n",
    "import matplotlib.pyplot as plt\n",
    "from pandas.core.frame import DataFrame\n"
   ]
  },
  {
   "cell_type": "code",
   "execution_count": 172,
   "metadata": {},
   "outputs": [],
   "source": [
    "pd.set_option('display.max_columns', None)\n",
    "data = pd.read_csv('BreadBasket_DMS_output.csv')\n",
    "count_hour= dict(data.groupby('Hour')['Transaction'].sum())\n",
    "soured_hour = sorted(count_hour.items(),key=lambda x:x[1],reverse=True)\n",
    "count_day= dict(data.groupby('Weekday')['Transaction'].sum())\n",
    "soured_day = sorted(count_day.items(),key=lambda x:x[1],reverse=True)\n",
    "count_period= dict(data.groupby('Period')['Transaction'].sum())\n",
    "soured_period = sorted(count_period.items(),key=lambda x:x[1],reverse=True)"
   ]
  },
  {
   "cell_type": "code",
   "execution_count": 173,
   "metadata": {},
   "outputs": [
    {
     "name": "stdout",
     "output_type": "stream",
     "text": [
      "the busiest hour is : 11\n",
      "the busiest day of the week is : Saturday\n",
      "the busiest period is : afternoon\n"
     ]
    }
   ],
   "source": [
    "#question 1\n",
    "print('the busiest hour is :',soured_hour[0][0])\n",
    "print('the busiest day of the week is :',soured_day[0][0])\n",
    "print('the busiest period is :',soured_period[0][0])\n"
   ]
  },
  {
   "cell_type": "code",
   "execution_count": 174,
   "metadata": {},
   "outputs": [],
   "source": [
    "re_hour = dict(data.groupby('Hour')['Item_Price'].sum())\n",
    "soured_hour = sorted(re_hour.items(),key=lambda x:x[1],reverse=True)\n",
    "re_day= dict(data.groupby('Weekday')['Item_Price'].sum())\n",
    "soured_day = sorted(re_day.items(),key=lambda x:x[1],reverse=True)\n",
    "re_period= dict(data.groupby('Period')['Item_Price'].sum())\n",
    "soured_period = sorted(re_period.items(),key=lambda x:x[1],reverse=True)\n"
   ]
  },
  {
   "cell_type": "code",
   "execution_count": 175,
   "metadata": {},
   "outputs": [
    {
     "name": "stdout",
     "output_type": "stream",
     "text": [
      "the profitable hour is : 11\n",
      "the profitable day of the week is : Saturday\n",
      "the profitable period is : afternoon\n"
     ]
    }
   ],
   "source": [
    "#question 2\n",
    "print('the profitable hour is :',soured_hour[0][0])\n",
    "print('the profitable day of the week is :',soured_day[0][0])\n",
    "print('the profitable period is :',soured_period[0][0])\n"
   ]
  },
  {
   "cell_type": "code",
   "execution_count": 176,
   "metadata": {},
   "outputs": [],
   "source": [
    "count_item = dict(data.groupby('Item').size())\n",
    "soured_item = sorted(count_item.items(),key=lambda x:x[1],reverse=True)\n"
   ]
  },
  {
   "cell_type": "code",
   "execution_count": 189,
   "metadata": {},
   "outputs": [
    {
     "name": "stdout",
     "output_type": "stream",
     "text": [
      "the most popular item is : Coffee\n",
      "the least popular item is : ['Adjustment', 'Bacon', 'Chicken sand', 'Gift voucher', 'Olum & polenta', 'Polenta', 'Raw bars', 'The BART']\n"
     ]
    }
   ],
   "source": [
    "print('the most popular item is :',soured_item[0][0])\n",
    "list_item = []\n",
    "for i in soured_item:\n",
    "    if i[1] == 1:\n",
    "        list_item.append(i[0])\n",
    "print('the least popular item is :',list_item)\n",
    "#question 3\n"
   ]
  },
  {
   "cell_type": "code",
   "execution_count": 223,
   "metadata": {},
   "outputs": [
    {
     "name": "stdout",
     "output_type": "stream",
     "text": [
      "Friday needs 2 barristas \n",
      "Monday needs 2 barristas \n",
      "Saturday needs 3 barristas \n",
      "Sunday needs 2 barristas \n",
      "Thursday needs 2 barristas \n",
      "Tuesday needs 2 barristas \n",
      "Wednesday needs 2 barristas \n"
     ]
    }
   ],
   "source": [
    "a= dict(data.drop_duplicates(['Transaction']).groupby(['Year','Month','Day','Weekday'])['Transaction'].count())\n",
    "weekday_list = []\n",
    "count_list = []\n",
    "for i in a.keys():\n",
    "    weekday_list.append(i[3])\n",
    "    count_list.append(a[i])\n",
    "c={\"week\" : weekday_list,\n",
    "   \"transction\" : count_list}\n",
    "new = DataFrame(c)\n",
    "count_transction = new.groupby('week')['transction'].max().tolist()\n",
    "week = ['Friday','Monday','Saturday','Sunday','Thursday','Tuesday','Wednesday']\n",
    "for i in range(7):\n",
    "    print('%s needs %d barristas '%(week[i],count_transction[i]//50+1))\n",
    "#question 4"
   ]
  },
  {
   "cell_type": "code",
   "execution_count": 184,
   "metadata": {},
   "outputs": [
    {
     "name": "stdout",
     "output_type": "stream",
     "text": [
      "the average price of a drink is : 8.42$\n",
      "the average price of a food is : 4.78$\n"
     ]
    }
   ],
   "source": [
    "xx = data.groupby('Type')['Item_Price'].mean().tolist()\n",
    "print('the average price of a drink is :','{:.2f}$'.format(xx[0]))\n",
    "print('the average price of a food is :','{:.2f}$'.format(xx[1]))\n",
    "\n",
    "\n",
    "#question 5"
   ]
  },
  {
   "cell_type": "code",
   "execution_count": 186,
   "metadata": {},
   "outputs": [
    {
     "name": "stdout",
     "output_type": "stream",
     "text": [
      "the money of a drink is : 71956.71$\n",
      "the money of a food is : 50883.09$\n",
      "this shop makes more money from selling drinks\n"
     ]
    }
   ],
   "source": [
    "xxx = data.groupby('Type')['Item_Price'].sum().tolist()\n",
    "print('the money of a drink is :','{:.2f}$'.format(xxx[0]))\n",
    "print('the money of a food is :','{:.2f}$'.format(xxx[1]))\n",
    "print('this shop makes more money from selling drinks')\n",
    "#question 6"
   ]
  },
  {
   "cell_type": "code",
   "execution_count": 214,
   "metadata": {},
   "outputs": [
    {
     "name": "stdout",
     "output_type": "stream",
     "text": [
      "the top 5 most popular items for Friday are  [('Coffee', 854), ('Bread', 527), ('Tea', 218), ('Sandwich', 134), ('Cake', 120)]\n",
      "the top 5 most popular items for Monday are  [('Coffee', 681), ('Bread', 360), ('Tea', 193), ('Pastry', 105), ('Sandwich', 101)]\n",
      "the top 5 most popular items for Saturday are  [('Coffee', 1103), ('Bread', 760), ('Tea', 288), ('Cake', 246), ('NONE', 198)]\n",
      "the top 5 most popular items for Sunday are  [('Coffee', 825), ('Bread', 473), ('Tea', 171), ('Cake', 167), ('NONE', 138)]\n",
      "the top 5 most popular items for Thursday are  [('Coffee', 670), ('Bread', 450), ('Tea', 183), ('Cake', 141), ('Pastry', 121)]\n",
      "the top 5 most popular items for Tuesday are  [('Coffee', 710), ('Bread', 350), ('Tea', 194), ('Cake', 139), ('Pastry', 119)]\n",
      "the top 5 most popular items for Wednesday are  [('Coffee', 628), ('Bread', 405), ('Tea', 188), ('Cake', 123), ('NONE', 108)]\n"
     ]
    }
   ],
   "source": [
    "c = dict(data.groupby(['Weekday','Item'])['Item'].size())\n",
    "temp = dict()\n",
    "itemdic = dict()\n",
    "pre = 'Friday'\n",
    "\n",
    "for i in c.keys():\n",
    "    if i[0] not in temp.keys():\n",
    "        itemdic = dict()\n",
    "        temp[i[0]] = itemdic\n",
    "        if i[1] not in temp[i[0]].keys():\n",
    "            temp[i[0]][i[1]] = c[i]\n",
    "    else:\n",
    "        if i[1] not in temp[i[0]].keys():\n",
    "            temp[i[0]][i[1]] = c[i]\n",
    "    \n",
    "for i in temp.keys():\n",
    "    aa = sorted(temp[i].items(),key=lambda x:x[1],reverse=True)\n",
    "    print('the top 5 most popular items for %s are '%i,aa[0:5])\n"
   ]
  },
  {
   "cell_type": "code",
   "execution_count": 162,
   "metadata": {},
   "outputs": [
    {
     "name": "stdout",
     "output_type": "stream",
     "text": [
      "(2016, 10, 30, 'Sunday') [('Coffee', 33), ('Bread', 29), ('Scandinavian', 16), ('Muffin', 12), ('Tea', 12)]\n",
      "(2016, 10, 31, 'Monday') [('Coffee', 60), ('Bread', 24), ('Tea', 19), ('Muffin', 17), ('Pastry', 13)]\n",
      "(2016, 11, 1, 'Tuesday') [('Coffee', 38), ('Bread', 21), ('Tea', 19), ('Pastry', 14), ('Scandinavian', 9)]\n",
      "(2016, 11, 2, 'Wednesday') [('Coffee', 42), ('Bread', 17), ('Pastry', 16), ('Tea', 14), ('Alfajores', 10)]\n",
      "(2016, 11, 3, 'Thursday') [('Coffee', 40), ('Bread', 26), ('Pastry', 18), ('Farm House', 10), ('Alfajores', 9)]\n",
      "(2016, 11, 4, 'Friday') [('Coffee', 51), ('Bread', 30), ('Brownie', 17), ('Tea', 14), ('Medialuna', 8)]\n",
      "(2016, 11, 5, 'Saturday') [('Coffee', 71), ('Bread', 36), ('Brownie', 31), ('Medialuna', 16), ('Scandinavian', 14)]\n",
      "(2016, 11, 6, 'Sunday') [('Coffee', 48), ('Bread', 23), ('Tea', 17), ('Pastry', 15), ('Alfajores', 14)]\n",
      "(2016, 11, 7, 'Monday') [('Coffee', 41), ('Bread', 27), ('Muffin', 13), ('Tea', 12), ('Medialuna', 10)]\n",
      "(2016, 11, 8, 'Tuesday') [('Coffee', 44), ('Tea', 11), ('Farm House', 10), ('Pastry', 9), ('Alfajores', 8)]\n",
      "(2016, 11, 9, 'Wednesday') [('Coffee', 32), ('Bread', 21), ('Medialuna', 5), ('Soup', 5), ('Cookies', 4)]\n",
      "(2016, 11, 10, 'Thursday') [('Coffee', 37), ('Bread', 31), ('Cookies', 12), ('Brownie', 9), ('Tea', 9)]\n",
      "(2016, 11, 11, 'Friday') [('Coffee', 40), ('Bread', 30), ('Brownie', 10), ('Scandinavian', 9), ('Tea', 9)]\n",
      "(2016, 11, 12, 'Saturday') [('Coffee', 55), ('Bread', 38), ('Muffin', 21), ('Alfajores', 13), ('Medialuna', 13)]\n",
      "(2016, 11, 13, 'Sunday') [('Coffee', 41), ('Bread', 39), ('NONE', 12), ('Brownie', 11), ('Medialuna', 9)]\n",
      "(2016, 11, 14, 'Monday') [('Coffee', 38), ('Bread', 21), ('Tea', 13), ('Muffin', 10), ('Sandwich', 9)]\n",
      "(2016, 11, 15, 'Tuesday') [('Coffee', 39), ('Bread', 22), ('Soup', 10), ('Medialuna', 8), ('Tea', 7)]\n",
      "(2016, 11, 16, 'Wednesday') [('Coffee', 30), ('Bread', 26), ('Tea', 12), ('Soup', 11), ('Cake', 9)]\n",
      "(2016, 11, 17, 'Thursday') [('Coffee', 38), ('Bread', 23), ('Alfajores', 9), ('Tea', 9), ('Cake', 5)]\n",
      "(2016, 11, 18, 'Friday') [('Coffee', 43), ('Bread', 27), ('Tea', 12), ('Pastry', 10), ('Soup', 10)]\n",
      "(2016, 11, 19, 'Saturday') [('Coffee', 64), ('Bread', 41), ('Tea', 17), ('Medialuna', 14), ('Pastry', 10)]\n",
      "(2016, 11, 20, 'Sunday') [('Coffee', 37), ('Bread', 28), ('Cake', 15), ('Medialuna', 11), ('Alfajores', 8)]\n",
      "(2016, 11, 21, 'Monday') [('Coffee', 30), ('Bread', 10), ('Tea', 7), ('Farm House', 5), ('Medialuna', 5)]\n",
      "(2016, 11, 22, 'Tuesday') [('Coffee', 25), ('Bread', 12), ('Cake', 8), ('Tea', 8), ('Medialuna', 7)]\n",
      "(2016, 11, 23, 'Wednesday') [('Coffee', 26), ('Bread', 11), ('NONE', 8), ('Tea', 7), ('Cookies', 6)]\n",
      "(2016, 11, 24, 'Thursday') [('Coffee', 30), ('Bread', 21), ('Tea', 12), ('Cake', 10), ('NONE', 6)]\n",
      "(2016, 11, 25, 'Friday') [('Coffee', 38), ('Bread', 26), ('NONE', 15), ('Tea', 9), ('Medialuna', 8)]\n",
      "(2016, 11, 26, 'Saturday') [('Coffee', 46), ('Bread', 32), ('Tea', 14), ('NONE', 13), ('Muffin', 12)]\n",
      "(2016, 11, 27, 'Sunday') [('Coffee', 47), ('Bread', 14), ('Hot chocolate', 8), ('NONE', 8), ('Tea', 8)]\n",
      "(2016, 11, 28, 'Monday') [('Coffee', 29), ('Bread', 17), ('Pastry', 7), ('Tea', 6), ('Cookies', 4)]\n",
      "(2016, 11, 29, 'Tuesday') [('Coffee', 24), ('Bread', 16), ('Tea', 11), ('NONE', 9), ('Muffin', 6)]\n",
      "(2016, 11, 30, 'Wednesday') [('Coffee', 25), ('Bread', 21), ('NONE', 11), ('Hot chocolate', 7), ('Tea', 7)]\n",
      "(2016, 12, 1, 'Thursday') [('Coffee', 22), ('Bread', 19), ('Pastry', 8), ('Tea', 6), ('Cake', 3)]\n",
      "(2016, 12, 2, 'Friday') [('Coffee', 30), ('Bread', 18), ('Sandwich', 12), ('NONE', 7), ('Scone', 6)]\n",
      "(2016, 12, 3, 'Saturday') [('Coffee', 45), ('Bread', 36), ('Scone', 16), ('Cake', 12), ('Tea', 11)]\n",
      "(2016, 12, 4, 'Sunday') [('Coffee', 35), ('Bread', 22), ('Medialuna', 10), ('NONE', 8), ('Tea', 7)]\n",
      "(2016, 12, 5, 'Monday') [('Coffee', 41), ('Bread', 17), ('Sandwich', 8), ('Medialuna', 7), ('Muffin', 7)]\n",
      "(2016, 12, 6, 'Tuesday') [('Coffee', 33), ('Bread', 24), ('Tea', 10), ('NONE', 8), ('Cake', 5)]\n",
      "(2016, 12, 7, 'Wednesday') [('Coffee', 22), ('Bread', 17), ('NONE', 8), ('Tea', 7), ('Cake', 4)]\n",
      "(2016, 12, 8, 'Thursday') [('Coffee', 21), ('Bread', 10), ('Cake', 8), ('NONE', 6), ('Pastry', 6)]\n",
      "(2016, 12, 9, 'Friday') [('Coffee', 28), ('Bread', 23), ('Tea', 10), ('NONE', 8), ('Brownie', 7)]\n",
      "(2016, 12, 10, 'Saturday') [('Coffee', 37), ('Bread', 28), ('Tea', 18), ('NONE', 16), ('Sandwich', 9)]\n",
      "(2016, 12, 11, 'Sunday') [('Coffee', 29), ('Bread', 16), ('NONE', 14), ('Medialuna', 9), ('Alfajores', 3)]\n",
      "(2016, 12, 12, 'Monday') [('Bread', 23), ('Coffee', 21), ('Cake', 6), ('Tea', 6), ('Vegan mincepie', 5)]\n",
      "(2016, 12, 13, 'Tuesday') [('Coffee', 27), ('Bread', 14), ('Tea', 7), ('Jam', 5), ('Fudge', 4)]\n",
      "(2016, 12, 14, 'Wednesday') [('Coffee', 31), ('Bread', 18), ('Tea', 11), ('NONE', 9), ('Alfajores', 4)]\n",
      "(2016, 12, 15, 'Thursday') [('Coffee', 37), ('Bread', 27), ('Hot chocolate', 8), ('Pastry', 8), ('NONE', 7)]\n",
      "(2016, 12, 16, 'Friday') [('Coffee', 44), ('Bread', 23), ('NONE', 16), ('Tea', 15), ('Jam', 9)]\n",
      "(2016, 12, 17, 'Saturday') [('Coffee', 28), ('Bread', 27), ('Scone', 8), ('Tea', 8), ('NONE', 7)]\n",
      "(2016, 12, 18, 'Sunday') [('Coffee', 34), ('Bread', 18), ('Hot chocolate', 7), ('NONE', 7), ('Medialuna', 6)]\n",
      "(2016, 12, 19, 'Monday') [('Coffee', 42), ('Bread', 24), ('Tea', 16), ('NONE', 11), ('Sandwich', 11)]\n",
      "(2016, 12, 20, 'Tuesday') [('Coffee', 32), ('Bread', 14), ('NONE', 10), ('Cake', 8), ('Hot chocolate', 5)]\n",
      "(2016, 12, 21, 'Wednesday') [('Coffee', 41), ('Bread', 21), ('NONE', 11), ('Cake', 9), ('Pastry', 6)]\n",
      "(2016, 12, 22, 'Thursday') [('Coffee', 23), ('Bread', 21), ('Tea', 14), ('Cake', 10), ('NONE', 7)]\n",
      "(2016, 12, 23, 'Friday') [('Coffee', 33), ('Bread', 26), ('Cake', 10), ('Hot chocolate', 9), ('Tea', 9)]\n",
      "(2016, 12, 24, 'Saturday') [('Coffee', 38), ('Bread', 27), ('Hot chocolate', 14), ('NONE', 12), ('Medialuna', 9)]\n",
      "(2016, 12, 27, 'Tuesday') [('Coffee', 25), ('NONE', 5), ('Hot chocolate', 4), ('Medialuna', 3), ('Pastry', 3)]\n",
      "(2016, 12, 28, 'Wednesday') [('Coffee', 34), ('Bread', 24), ('NONE', 9), ('Hot chocolate', 7), ('Sandwich', 6)]\n",
      "(2016, 12, 29, 'Thursday') [('Coffee', 43), ('Bread', 38), ('Hot chocolate', 9), ('Cake', 8), ('Medialuna', 7)]\n",
      "(2016, 12, 30, 'Friday') [('Coffee', 29), ('Bread', 22), ('Tea', 9), ('Hot chocolate', 7), ('Sandwich', 6)]\n",
      "(2016, 12, 31, 'Saturday') [('Coffee', 27), ('Bread', 26), ('Tea', 12), ('NONE', 8), ('Farm House', 6)]\n",
      "(2017, 1, 1, 'Sunday') [('Bread', 1)]\n",
      "(2017, 1, 3, 'Tuesday') [('Coffee', 34), ('Bread', 11), ('Cake', 9), ('NONE', 8), ('Sandwich', 5)]\n",
      "(2017, 1, 4, 'Wednesday') [('Coffee', 26), ('Bread', 12), ('NONE', 8), ('Brownie', 5), ('Cake', 5)]\n",
      "(2017, 1, 5, 'Thursday') [('Coffee', 23), ('Bread', 21), ('NONE', 7), ('Sandwich', 7), ('Juice', 6)]\n",
      "(2017, 1, 6, 'Friday') [('Coffee', 29), ('Bread', 16), ('NONE', 7), ('Medialuna', 6), ('Toast', 6)]\n",
      "(2017, 1, 7, 'Saturday') [('Coffee', 55), ('Bread', 36), ('Tea', 14), ('Sandwich', 12), ('NONE', 11)]\n",
      "(2017, 1, 8, 'Sunday') [('Coffee', 27), ('Bread', 22), ('Sandwich', 7), ('Tiffin', 6), ('Medialuna', 5)]\n",
      "(2017, 1, 9, 'Monday') [('Coffee', 28), ('Bread', 10), ('Tea', 9), ('NONE', 6), ('Scone', 5)]\n",
      "(2017, 1, 10, 'Tuesday') [('Coffee', 18), ('NONE', 14), ('Bread', 13), ('Tea', 7), ('Cake', 6)]\n",
      "(2017, 1, 11, 'Wednesday') [('Coffee', 27), ('Bread', 17), ('NONE', 14), ('Cake', 7), ('Tea', 6)]\n",
      "(2017, 1, 12, 'Thursday') [('Coffee', 23), ('Bread', 11), ('Tea', 8), ('Toast', 6), ('NONE', 4)]\n",
      "(2017, 1, 13, 'Friday') [('Coffee', 32), ('Bread', 15), ('NONE', 10), ('Tea', 9), ('Cake', 6)]\n",
      "(2017, 1, 14, 'Saturday') [('Coffee', 46), ('Bread', 29), ('Tea', 13), ('Cake', 11), ('Hot chocolate', 9)]\n",
      "(2017, 1, 15, 'Sunday') [('Bread', 29), ('Coffee', 29), ('Cake', 6), ('Jammie Dodgers', 6), ('Tea', 6)]\n",
      "(2017, 1, 16, 'Monday') [('Bread', 18), ('Coffee', 16), ('Cookies', 5), ('Tea', 5), ('Medialuna', 4)]\n",
      "(2017, 1, 17, 'Tuesday') [('Coffee', 32), ('Bread', 11), ('Tea', 8), ('Cake', 6), ('Sandwich', 6)]\n",
      "(2017, 1, 18, 'Wednesday') [('Coffee', 16), ('Tea', 14), ('Cake', 9), ('Bread', 7), ('Cookies', 5)]\n",
      "(2017, 1, 19, 'Thursday') [('Coffee', 31), ('Bread', 16), ('Tea', 9), ('Cake', 7), ('Hot chocolate', 7)]\n",
      "(2017, 1, 20, 'Friday') [('Coffee', 41), ('Bread', 22), ('Tea', 13), ('Pastry', 7), ('Sandwich', 7)]\n",
      "(2017, 1, 21, 'Saturday') [('Coffee', 43), ('Bread', 27), ('Cake', 18), ('NONE', 12), ('Tea', 11)]\n",
      "(2017, 1, 22, 'Sunday') [('Coffee', 42), ('Bread', 26), ('Tea', 12), ('Cake', 11), ('Alfajores', 6)]\n",
      "(2017, 1, 23, 'Monday') [('Coffee', 29), ('Cake', 18), ('Bread', 10), ('Tea', 10), ('Hot chocolate', 8)]\n",
      "(2017, 1, 24, 'Tuesday') [('Coffee', 28), ('Bread', 20), ('Tea', 9), ('Cake', 7), ('Chicken Stew', 5)]\n",
      "(2017, 1, 25, 'Wednesday') [('Bread', 14), ('Coffee', 11), ('Tea', 10), ('Sandwich', 7), ('Cake', 4)]\n",
      "(2017, 1, 26, 'Thursday') [('Coffee', 27), ('Bread', 19), ('Tea', 12), ('Muffin', 9), ('Cake', 6)]\n",
      "(2017, 1, 27, 'Friday') [('Coffee', 43), ('Bread', 23), ('Tea', 14), ('Cookies', 10), ('Soup', 10)]\n",
      "(2017, 1, 28, 'Saturday') [('Coffee', 56), ('Bread', 42), ('Tea', 20), ('Scone', 11), ('Hot chocolate', 10)]\n",
      "(2017, 1, 29, 'Sunday') [('Coffee', 31), ('Bread', 22), ('Medialuna', 10), ('NONE', 10), ('Pastry', 10)]\n",
      "(2017, 1, 30, 'Monday') [('Coffee', 20), ('Bread', 15), ('Pastry', 7), ('Soup', 5), ('Hot chocolate', 4)]\n",
      "(2017, 1, 31, 'Tuesday') [('Coffee', 29), ('Bread', 17), ('Cake', 11), ('Tea', 11), ('Cookies', 6)]\n",
      "(2017, 2, 1, 'Wednesday') [('Bread', 33), ('Coffee', 33), ('Cake', 9), ('Tea', 6), ('Cookies', 5)]\n",
      "(2017, 2, 2, 'Thursday') [('Bread', 25), ('Coffee', 23), ('Cake', 11), ('Tea', 8), ('Juice', 6)]\n",
      "(2017, 2, 3, 'Friday') [('Coffee', 31), ('Bread', 29), ('Tea', 9), ('Sandwich', 8), ('Soup', 7)]\n",
      "(2017, 2, 4, 'Saturday') [('Coffee', 72), ('Bread', 31), ('Cake', 25), ('Tshirt', 21), ('Tea', 15)]\n",
      "(2017, 2, 5, 'Sunday') [('Coffee', 55), ('Bread', 22), ('Tea', 11), ('Pastry', 10), ('Sandwich', 10)]\n",
      "(2017, 2, 6, 'Monday') [('Coffee', 36), ('Bread', 22), ('Tea', 11), ('Pastry', 8), ('Cake', 7)]\n",
      "(2017, 2, 7, 'Tuesday') [('Coffee', 28), ('Bread', 17), ('Cake', 10), ('Tea', 8), ('Alfajores', 5)]\n",
      "(2017, 2, 8, 'Wednesday') [('Coffee', 26), ('Bread', 20), ('Tea', 9), ('Sandwich', 6), ('Pastry', 5)]\n",
      "(2017, 2, 9, 'Thursday') [('Coffee', 27), ('Bread', 18), ('Cookies', 10), ('Sandwich', 7), ('Soup', 7)]\n",
      "(2017, 2, 10, 'Friday') [('Coffee', 36), ('Bread', 23), ('Cake', 11), ('Cookies', 9), ('Tea', 7)]\n",
      "(2017, 2, 11, 'Saturday') [('Coffee', 38), ('Bread', 36), ('Tea', 19), ('Cake', 16), ('Pastry', 12)]\n",
      "(2017, 2, 12, 'Sunday') [('Coffee', 33), ('Bread', 22), ('Cake', 10), ('Pastry', 7), ('NONE', 6)]\n",
      "(2017, 2, 13, 'Monday') [('Coffee', 41), ('Bread', 19), ('Sandwich', 10), ('Tea', 10), ('Cookies', 9)]\n",
      "(2017, 2, 14, 'Tuesday') [('Coffee', 29), ('Bread', 18), ('Cake', 11), ('Alfajores', 7), ('Hot chocolate', 7)]\n",
      "(2017, 2, 15, 'Wednesday') [('Coffee', 21), ('Bread', 10), ('Medialuna', 6), ('Cake', 5), ('Baguette', 4)]\n",
      "(2017, 2, 16, 'Thursday') [('Coffee', 24), ('Cake', 10), ('Cookies', 7), ('Tea', 7), ('Bread', 6)]\n",
      "(2017, 2, 17, 'Friday') [('Coffee', 37), ('Bread', 26), ('Sandwich', 16), ('Tea', 16), ('Cake', 9)]\n",
      "(2017, 2, 18, 'Saturday') [('Coffee', 52), ('Bread', 42), ('NONE', 13), ('Sandwich', 12), ('Tea', 11)]\n",
      "(2017, 2, 19, 'Sunday') [('Coffee', 48), ('Bread', 22), ('Cake', 19), ('Tea', 11), ('Alfajores', 10)]\n",
      "(2017, 2, 20, 'Monday') [('Coffee', 30), ('Bread', 25), ('Tea', 6), ('Alfajores', 5), ('Medialuna', 5)]\n",
      "(2017, 2, 21, 'Tuesday') [('Coffee', 28), ('Bread', 12), ('Tea', 12), ('Cake', 4), ('Cookies', 4)]\n",
      "(2017, 2, 22, 'Wednesday') [('Coffee', 28), ('Bread', 19), ('Tea', 11), ('Sandwich', 9), ('Alfajores', 7)]\n",
      "(2017, 2, 23, 'Thursday') [('Coffee', 29), ('Bread', 13), ('Hot chocolate', 6), ('Tea', 6), ('Cake', 5)]\n",
      "(2017, 2, 24, 'Friday') [('Coffee', 38), ('Bread', 23), ('Tea', 14), ('Sandwich', 8), ('Brownie', 6)]\n",
      "(2017, 2, 25, 'Saturday') [('Coffee', 47), ('Bread', 27), ('Cake', 16), ('Tea', 10), ('NONE', 8)]\n",
      "(2017, 2, 26, 'Sunday') [('Coffee', 57), ('Bread', 17), ('Cake', 14), ('Medialuna', 10), ('Sandwich', 10)]\n",
      "(2017, 2, 27, 'Monday') [('Coffee', 24), ('Bread', 16), ('Tea', 8), ('Pastry', 6), ('Medialuna', 4)]\n",
      "(2017, 2, 28, 'Tuesday') [('Coffee', 33), ('Bread', 27), ('Tea', 11), ('Pastry', 8), ('Cake', 7)]\n",
      "(2017, 3, 1, 'Wednesday') [('Coffee', 23), ('Bread', 14), ('Tea', 10), ('Cake', 6), ('Pastry', 6)]\n",
      "(2017, 3, 2, 'Thursday') [('Coffee', 32), ('Bread', 19), ('Tea', 11), ('Pastry', 9), ('Cake', 7)]\n",
      "(2017, 3, 3, 'Friday') [('Coffee', 41), ('Bread', 22), ('Pastry', 12), ('Sandwich', 9), ('Tea', 7)]\n",
      "(2017, 3, 4, 'Saturday') [('Coffee', 57), ('Bread', 36), ('Scone', 22), ('Tea', 16), ('Sandwich', 11)]\n",
      "(2017, 3, 5, 'Sunday') [('Coffee', 40), ('Bread', 13), ('Pastry', 11), ('Cake', 8), ('NONE', 7)]\n",
      "(2017, 3, 6, 'Monday') [('Coffee', 27), ('Bread', 17), ('Cake', 10), ('Tea', 8), ('NONE', 6)]\n",
      "(2017, 3, 7, 'Tuesday') [('Coffee', 33), ('Bread', 19), ('Tea', 9), ('Pastry', 8), ('Cake', 7)]\n",
      "(2017, 3, 8, 'Wednesday') [('Bread', 18), ('Coffee', 18), ('Pastry', 6), ('Cake', 5), ('Tea', 5)]\n",
      "(2017, 3, 9, 'Thursday') [('Coffee', 27), ('Bread', 12), ('Cake', 10), ('Tea', 9), ('Sandwich', 6)]\n",
      "(2017, 3, 10, 'Friday') [('Coffee', 38), ('Bread', 28), ('Pastry', 8), ('Cookies', 7), ('Tea', 7)]\n",
      "(2017, 3, 11, 'Saturday') [('Coffee', 48), ('Bread', 30), ('Cake', 16), ('Tea', 15), ('Sandwich', 13)]\n",
      "(2017, 3, 12, 'Sunday') [('Coffee', 40), ('Bread', 18), ('Cake', 11), ('Spanish Brunch', 9), ('Tea', 9)]\n",
      "(2017, 3, 13, 'Monday') [('Coffee', 33), ('Tea', 11), ('Bread', 10), ('Pastry', 10), ('Sandwich', 7)]\n",
      "(2017, 3, 14, 'Tuesday') [('Coffee', 27), ('Bread', 12), ('Pastry', 8), ('Cake', 7), ('Tea', 7)]\n",
      "(2017, 3, 15, 'Wednesday') [('Coffee', 25), ('Bread', 13), ('Cake', 10), ('Pastry', 6), ('Brownie', 4)]\n",
      "(2017, 3, 16, 'Thursday') [('Coffee', 25), ('Bread', 22), ('Hot chocolate', 6), ('Cake', 5), ('Cookies', 5)]\n",
      "(2017, 3, 17, 'Friday') [('Coffee', 40), ('Bread', 13), ('Cake', 11), ('Pastry', 6), ('Tea', 6)]\n",
      "(2017, 3, 18, 'Saturday') [('Coffee', 44), ('Bread', 28), ('Cake', 12), ('Tea', 12), ('Scone', 10)]\n",
      "(2017, 3, 19, 'Sunday') [('Coffee', 35), ('Bread', 18), ('Tea', 10), ('Sandwich', 9), ('Cake', 8)]\n",
      "(2017, 3, 20, 'Monday') [('Coffee', 31), ('Bread', 13), ('Tea', 7), ('Muffin', 6), ('Pastry', 5)]\n",
      "(2017, 3, 21, 'Tuesday') [('Coffee', 32), ('Bread', 17), ('Sandwich', 8), ('Cake', 7), ('Cookies', 5)]\n",
      "(2017, 3, 22, 'Wednesday') [('Coffee', 31), ('Bread', 17), ('Tea', 7), ('Juice', 5), ('Pastry', 4)]\n",
      "(2017, 3, 23, 'Thursday') [('Coffee', 28), ('Bread', 23), ('Pastry', 9), ('Juice', 6), ('Brownie', 5)]\n",
      "(2017, 3, 24, 'Friday') [('Coffee', 42), ('Bread', 20), ('Cake', 8), ('Tea', 7), ('Cookies', 5)]\n",
      "(2017, 3, 25, 'Saturday') [('Coffee', 54), ('Bread', 40), ('Cake', 20), ('Pastry', 14), ('Muffin', 12)]\n",
      "(2017, 3, 26, 'Sunday') [('Coffee', 35), ('Bread', 26), ('Sandwich', 16), ('Cake', 11), ('Medialuna', 9)]\n",
      "(2017, 3, 27, 'Monday') [('Coffee', 29), ('Tea', 11), ('Bread', 7), ('Bakewell', 5), ('Muffin', 5)]\n",
      "(2017, 3, 28, 'Tuesday') [('Coffee', 32), ('Sandwich', 9), ('Bread', 8), ('Tea', 7), ('Cookies', 6)]\n",
      "(2017, 3, 29, 'Wednesday') [('Coffee', 30), ('Bread', 15), ('Tea', 11), ('Cake', 5), ('Juice', 4)]\n",
      "(2017, 3, 30, 'Thursday') [('Coffee', 33), ('Cake', 14), ('Bread', 13), ('Tea', 11), ('Sandwich', 8)]\n",
      "(2017, 3, 31, 'Friday') [('Coffee', 41), ('Bread', 27), ('Cookies', 8), ('Tea', 7), ('Medialuna', 6)]\n",
      "(2017, 4, 1, 'Saturday') [('Coffee', 39), ('Bread', 36), ('Cake', 10), ('Sandwich', 9), ('Cookies', 7)]\n",
      "(2017, 4, 2, 'Sunday') [('Coffee', 32), ('Bread', 17), ('Cake', 14), ('Sandwich', 8), ('NONE', 7)]\n",
      "(2017, 4, 3, 'Monday') [('Coffee', 35), ('Bread', 15), ('Tea', 9), ('Cookies', 7), ('Sandwich', 6)]\n",
      "(2017, 4, 4, 'Tuesday') [('Coffee', 40), ('Bread', 18), ('Cake', 10), ('Tea', 9), ('NONE', 5)]\n",
      "(2017, 4, 5, 'Wednesday') [('Coffee', 30), ('Bread', 20), ('Tea', 14), ('Cake', 10), ('Pastry', 10)]\n",
      "(2017, 4, 6, 'Thursday') [('Coffee', 27), ('Bread', 16), ('Sandwich', 12), ('Tea', 11), ('Juice', 6)]\n",
      "(2017, 4, 7, 'Friday') [('Coffee', 29), ('Bread', 15), ('Tea', 6), ('Cookies', 5), ('Cake', 4)]\n",
      "(2017, 4, 8, 'Saturday') [('Coffee', 41), ('Bread', 29), ('Cake', 14), ('Juice', 9), ('Tea', 9)]\n"
     ]
    }
   ],
   "source": [
    "b = dict(data.groupby(['Year','Month','Day','Weekday','Item'])['Item'].size())\n",
    "pre = (2016,10,30,'Sunday')\n",
    "\n",
    "temp = dict()\n",
    "for i in b.keys():\n",
    "    if i[3] == pre[3]:\n",
    "        temp[i[4]] = b[i]\n",
    "    else :\n",
    "        aa = sorted(temp.items(),key=lambda x:x[1],reverse=True)\n",
    "        print(pre,aa[0:5])\n",
    "        pre = (i[0],i[1],i[2],i[3])\n",
    "        temp = dict()\n",
    "        temp[i[4]] = b[i]\n",
    "# for i in b.keys():\n",
    "#     print(b[i])\n",
    "#question 7"
   ]
  },
  {
   "cell_type": "code",
   "execution_count": 215,
   "metadata": {},
   "outputs": [
    {
     "name": "stdout",
     "output_type": "stream",
     "text": [
      "the top 5 least popular items for Friday are  [('Brioche and salami', 1), ('Chimichurri Oil', 1), ('Chocolates', 1), ('Coffee granules ', 1), ('Crepes', 1)]\n",
      "the top 5 least popular items for Monday are  [('Chocolates', 1), ('Crisps', 1), ('Drinking chocolate spoons ', 1), ('Dulce de Leche', 1), ('Extra Salami or Feta', 1)]\n",
      "the top 5 least popular items for Saturday are  [('Bowl Nic Pitt', 1), ('Cherry me Dried fruit', 1), ('Christmas common', 1), ('Dulce de Leche', 1), (\"Ella's Kitchen Pouches\", 1)]\n",
      "the top 5 least popular items for Sunday are  [('Argentina Night', 1), ('Bacon', 1), ('Brioche and salami', 1), ('Chicken sand', 1), ('Chocolates', 1)]\n",
      "the top 5 least popular items for Thursday are  [('Argentina Night', 1), ('Brioche and salami', 1), ('Cherry me Dried fruit', 1), ('Chimichurri Oil', 1), ('Drinking chocolate spoons ', 1)]\n",
      "the top 5 least popular items for Tuesday are  [('Bowl Nic Pitt', 1), ('Bread Pudding', 1), ('Chocolates', 1), ('Drinking chocolate spoons ', 1), (\"Ella's Kitchen Pouches\", 1)]\n",
      "the top 5 least popular items for Wednesday are  [('Adjustment', 1), ('Bare Popcorn', 1), ('Cherry me Dried fruit', 1), ('Crepes', 1), ('Duck egg', 1)]\n"
     ]
    }
   ],
   "source": [
    "c = dict(data.groupby(['Weekday','Item'])['Item'].size())\n",
    "temp = dict()\n",
    "itemdic = dict()\n",
    "pre = 'Friday'\n",
    "\n",
    "for i in c.keys():\n",
    "    if i[0] not in temp.keys():\n",
    "        itemdic = dict()\n",
    "        temp[i[0]] = itemdic\n",
    "        if i[1] not in temp[i[0]].keys():\n",
    "            temp[i[0]][i[1]] = c[i]\n",
    "    else:\n",
    "        if i[1] not in temp[i[0]].keys():\n",
    "            temp[i[0]][i[1]] = c[i]\n",
    "    \n",
    "for i in temp.keys():\n",
    "    aa = sorted(temp[i].items(),key=lambda x:x[1],reverse=False)\n",
    "    print('the top 5 least popular items for %s are '%i,aa[0:5])\n"
   ]
  },
  {
   "cell_type": "code",
   "execution_count": 164,
   "metadata": {},
   "outputs": [
    {
     "name": "stdout",
     "output_type": "stream",
     "text": [
      "(2016, 10, 30, 'Sunday') [('Cake', 1), ('Chicken sand', 1), (\"Ella's Kitchen Pouches\", 1), ('Mighty Protein', 1), ('Pick and Mix Bowls', 1)]\n",
      "(2016, 10, 31, 'Monday') [('Focaccia', 1), ('Fudge', 1), ('Hot chocolate', 1), ('Mighty Protein', 1), ('My-5 Fruit Shoot', 1)]\n",
      "(2016, 11, 1, 'Tuesday') [('Coke', 1), ('Eggs', 1), (\"Ella's Kitchen Pouches\", 1), ('Farm House', 1), ('Fudge', 1)]\n",
      "(2016, 11, 2, 'Wednesday') [('Hot chocolate', 1), ('Muffin', 1), ('Smoothies', 1), ('Coke', 2), ('Mighty Protein', 2)]\n",
      "(2016, 11, 3, 'Thursday') [('Mineral water', 1), ('Smoothies', 1), ('Tartine', 1), (\"Ella's Kitchen Pouches\", 2), ('My-5 Fruit Shoot', 2)]\n",
      "(2016, 11, 4, 'Friday') [('Cake', 1), ('Dulce de Leche', 1), ('Honey', 1), ('Mighty Protein', 1), ('The BART', 1)]\n",
      "(2016, 11, 5, 'Saturday') [('Fairy Doors', 1), ('Smoothies', 1), ('Victorian Sponge', 1), ('Coke', 2), ('Focaccia', 2)]\n",
      "(2016, 11, 6, 'Sunday') [('Basket', 1), ('Dulce de Leche', 1), ('Empanadas', 1), ('My-5 Fruit Shoot', 1), ('Sandwich', 1)]\n",
      "(2016, 11, 7, 'Monday') [('Hearty & Seasonal', 1), ('Hot chocolate', 1), ('Keeping It Local', 1), ('NONE', 1), ('Fudge', 2)]\n",
      "(2016, 11, 8, 'Tuesday') [('Bowl Nic Pitt', 1), ('Bread Pudding', 1), ('Coke', 1), ('Focaccia', 1), ('Frittata', 1)]\n",
      "(2016, 11, 9, 'Wednesday') [('Adjustment', 1), ('Coke', 1), ('Eggs', 1), ('Farm House', 1), ('Hot chocolate', 1)]\n",
      "(2016, 11, 10, 'Thursday') [('Chimichurri Oil', 1), ('Coke', 1), ('Farm House', 1), ('Fudge', 1), ('Hearty & Seasonal', 1)]\n",
      "(2016, 11, 11, 'Friday') [('Art Tray', 1), ('Chimichurri Oil', 1), ('Coke', 1), ('Cookies', 1), ('Fairy Doors', 1)]\n",
      "(2016, 11, 12, 'Saturday') [('Bowl Nic Pitt', 1), ('Coke', 1), ('Eggs', 1), ('Fudge', 1), ('Tartine', 1)]\n",
      "(2016, 11, 13, 'Sunday') [('Bacon', 1), ('Cake', 1), ('Coke', 1), ('Cookies', 1), ('Frittata', 1)]\n",
      "(2016, 11, 14, 'Monday') [('Alfajores', 1), (\"Ella's Kitchen Pouches\", 1), ('Focaccia', 1), ('Jam', 1), ('Juice', 1)]\n",
      "(2016, 11, 15, 'Tuesday') [('Fudge', 1), ('Hot chocolate', 1), ('Kids biscuit', 1), ('NONE', 1), ('Brownie', 2)]\n",
      "(2016, 11, 16, 'Wednesday') [('Coke', 1), ('Fudge', 1), ('Granola', 1), ('Juice', 1), ('Victorian Sponge', 1)]\n",
      "(2016, 11, 17, 'Thursday') [('Art Tray', 1), ('Cookies', 1), ('Fudge', 1), ('Jam', 1), ('Mineral water', 1)]\n",
      "(2016, 11, 18, 'Friday') [('Cake', 1), ('My-5 Fruit Shoot', 1), ('Art Tray', 2), ('Fudge', 2), ('Hearty & Seasonal', 2)]\n",
      "(2016, 11, 19, 'Saturday') [('Cookies', 1), (\"Ella's Kitchen Pouches\", 1), ('Fudge', 1), ('Hearty & Seasonal', 1), ('Jam', 1)]\n",
      "(2016, 11, 20, 'Sunday') [('Dulce de Leche', 1), ('Focaccia', 1), ('Fudge', 1), ('Smoothies', 1), ('Tartine', 1)]\n",
      "(2016, 11, 21, 'Monday') [('Fudge', 1), ('Muffin', 1), ('My-5 Fruit Shoot', 1), ('Scandinavian', 1), ('Smoothies', 1)]\n",
      "(2016, 11, 22, 'Tuesday') [('Alfajores', 1), ('Coke', 1), ('Fudge', 1), ('Mineral water', 1), ('Cookies', 2)]\n",
      "(2016, 11, 23, 'Wednesday') [('Alfajores', 1), ('Coke', 1), ('Jam', 1), ('Juice', 1), ('Mineral water', 1)]\n",
      "(2016, 11, 24, 'Thursday') [('Coke', 1), ('Cookies', 1), (\"Ella's Kitchen Pouches\", 1), ('Fudge', 1), ('Hearty & Seasonal', 1)]\n",
      "(2016, 11, 25, 'Friday') [('Art Tray', 1), ('Cookies', 1), ('Farm House', 1), ('Focaccia', 1), ('Hot chocolate', 1)]\n",
      "(2016, 11, 26, 'Saturday') [('Coke', 1), ('Cookies', 1), ('Farm House', 1), ('Focaccia', 1), ('Fudge', 1)]\n",
      "(2016, 11, 27, 'Sunday') [('Mineral water', 1), ('Sandwich', 1), ('Tartine', 1), ('The Nomad', 1), ('Art Tray', 2)]\n",
      "(2016, 11, 28, 'Monday') [('Bakewell', 1), ('Jam', 1), ('Keeping It Local', 1), ('Smoothies', 1), ('Tartine', 1)]\n",
      "(2016, 11, 29, 'Tuesday') [('Alfajores', 1), ('Fudge', 1), ('Jam', 1), ('Juice', 1), ('Coke', 2)]\n",
      "(2016, 11, 30, 'Wednesday') [('Art Tray', 1), ('Jam', 1), ('Mineral water', 1), ('Farm House', 2), ('Fudge', 2)]\n",
      "(2016, 12, 1, 'Thursday') [('Alfajores', 1), ('Coke', 1), ('Hearty & Seasonal', 1), ('Jam', 1), ('Juice', 1)]\n",
      "(2016, 12, 2, 'Friday') [('Alfajores', 1), ('Farm House', 1), ('Keeping It Local', 1), ('Mineral water', 1), ('Muffin', 1)]\n",
      "(2016, 12, 3, 'Saturday') [('Coke', 1), ('Cookies', 1), ('Mineral water', 1), ('Smoothies', 1), ('Tartine', 1)]\n",
      "(2016, 12, 4, 'Sunday') [(\"Ella's Kitchen Pouches\", 1), ('Sandwich', 1), ('Farm House', 2), ('Fudge', 2), ('Scone', 2)]\n",
      "(2016, 12, 5, 'Monday') [('Cake', 1), ('Coke', 1), ('Dulce de Leche', 1), ('Hearty & Seasonal', 1), ('Hot chocolate', 1)]\n",
      "(2016, 12, 6, 'Tuesday') [('Coke', 1), ('Toast', 1), ('Juice', 2), ('Mineral water', 2), ('Farm House', 3)]\n",
      "(2016, 12, 7, 'Wednesday') [('Crepes', 1), ('Fudge', 1), ('Mineral water', 1), ('Truffles', 1), ('Alfajores', 2)]\n",
      "(2016, 12, 8, 'Thursday') [('Alfajores', 1), ('Brownie', 1), ('Cookies', 1), ('Hearty & Seasonal', 1), ('Juice', 1)]\n",
      "(2016, 12, 9, 'Friday') [('Coke', 1), ('Crepes', 1), ('Hot chocolate', 1), ('Farm House', 2), ('Hearty & Seasonal', 2)]\n",
      "(2016, 12, 10, 'Saturday') [('Coke', 1), ('Jammie Dodgers', 1), ('Art Tray', 2), ('Brownie', 2), ('Toast', 2)]\n",
      "(2016, 12, 11, 'Sunday') [('Coke', 1), ('Cookies', 1), ('Fudge', 1), ('Jam', 1), ('Muffin', 1)]\n",
      "(2016, 12, 12, 'Monday') [('Alfajores', 1), ('Frittata', 1), ('Fudge', 1), ('Jammie Dodgers', 1), ('Juice', 1)]\n",
      "(2016, 12, 13, 'Tuesday') [('Art Tray', 1), ('Cake', 1), ('Coke', 1), ('Cookies', 1), ('Frittata', 1)]\n",
      "(2016, 12, 14, 'Wednesday') [('Art Tray', 1), ('Cake', 1), ('Fudge', 1), ('Jam', 1), ('Truffles', 1)]\n",
      "(2016, 12, 15, 'Thursday') [('Bare Popcorn', 1), ('Coke', 1), ('Cookies', 1), ('Dulce de Leche', 1), (\"Ella's Kitchen Pouches\", 1)]\n",
      "(2016, 12, 16, 'Friday') [('Dulce de Leche', 1), ('Jammie Dodgers', 1), ('Medialuna', 1), ('Scandinavian', 1), ('Cake', 2)]\n",
      "(2016, 12, 17, 'Saturday') [('Crisps', 1), ('Dulce de Leche', 1), ('Lemon and coconut', 1), ('Sandwich', 1), ('Alfajores', 2)]\n",
      "(2016, 12, 18, 'Sunday') [('Coke', 1), ('Crisps', 1), ('Farm House', 1), ('Mineral water', 1), ('Muesli', 1)]\n",
      "(2016, 12, 19, 'Monday') [('Focaccia', 1), ('Jam', 1), ('Mineral water', 1), ('Pastry', 1), ('Scandinavian', 1)]\n",
      "(2016, 12, 20, 'Tuesday') [('Brownie', 1), ('Scandinavian', 1), ('The Nomad', 1), ('Hearty & Seasonal', 2), ('Juice', 3)]\n",
      "(2016, 12, 21, 'Wednesday') [('Gingerbread syrup', 1), ('Jam', 1), ('Juice', 1), ('Mineral water', 1), ('Muffin', 1)]\n",
      "(2016, 12, 22, 'Thursday') [('Art Tray', 1), ('Bare Popcorn', 1), ('Coke', 1), ('Farm House', 1), ('Mineral water', 1)]\n",
      "(2016, 12, 23, 'Friday') [('Brioche and salami', 1), ('Coke', 1), ('Panatone', 1), ('Scandinavian', 1), ('Smoothies', 1)]\n",
      "(2016, 12, 24, 'Saturday') [('Art Tray', 1), ('Crisps', 1), ('Gingerbread syrup', 1), ('Frittata', 2), ('Panatone', 2)]\n",
      "(2016, 12, 27, 'Tuesday') [('Cookies', 1), ('Farm House', 1), ('Gingerbread syrup', 1), ('Toast', 1), ('Bread', 2)]\n",
      "(2016, 12, 28, 'Wednesday') [('Bare Popcorn', 1), ('Coke', 1), ('Fudge', 1), ('Muesli', 1), ('Cookies', 2)]\n",
      "(2016, 12, 29, 'Thursday') [('Coke', 1), ('Crisps', 1), ('Farm House', 1), ('Fudge', 1), ('Hearty & Seasonal', 1)]\n",
      "(2016, 12, 30, 'Friday') [('Coke', 1), ('Cookies', 1), ('Juice', 1), ('Lemon and coconut', 1), ('Smoothies', 1)]\n",
      "(2016, 12, 31, 'Saturday') [('Coke', 1), ('Frittata', 1), ('Toast', 1), ('Cookies', 2), ('Scandinavian', 2)]\n",
      "(2017, 1, 1, 'Sunday') [('Bread', 1)]\n",
      "(2017, 1, 3, 'Tuesday') [('Farm House', 1), ('Juice', 1), ('Mineral water', 1), ('Frittata', 2), ('Muffin', 3)]\n",
      "(2017, 1, 4, 'Wednesday') [('Coke', 1), ('Muesli', 1), ('Muffin', 1), ('Toast', 1), ('Farm House', 2)]\n",
      "(2017, 1, 5, 'Thursday') [('Cake', 1), ('Eggs', 1), (\"Ella's Kitchen Pouches\", 1), ('Fudge', 1), ('Vegan mincepie', 1)]\n",
      "(2017, 1, 6, 'Friday') [('Afternoon with the baker', 1), ('Coke', 1), ('Juice', 1), ('Scandinavian', 1), ('Scone', 1)]\n",
      "(2017, 1, 7, 'Saturday') [('Afternoon with the baker', 1), ('Coke', 1), ('Fudge', 1), ('Mineral water', 1), ('Smoothies', 1)]\n",
      "(2017, 1, 8, 'Sunday') [('Afternoon with the baker', 1), ('Cookies', 1), ('Farm House', 1), ('Frittata', 1), ('Hearty & Seasonal', 1)]\n",
      "(2017, 1, 9, 'Monday') [('Coke', 1), ('Sandwich', 1), ('The Nomad', 1), ('Jammie Dodgers', 2), ('Muffin', 2)]\n",
      "(2017, 1, 10, 'Tuesday') [('Coke', 1), ('Cookies', 1), ('Frittata', 1), ('Fudge', 1), ('Hearty & Seasonal', 1)]\n",
      "(2017, 1, 11, 'Wednesday') [('Alfajores', 1), ('Art Tray', 1), ('Granola', 1), ('Hearty & Seasonal', 1), ('Afternoon with the baker', 2)]\n",
      "(2017, 1, 12, 'Thursday') [('Hot chocolate', 1), ('Juice', 1), ('Vegan mincepie', 1), ('Alfajores', 2), ('Coke', 2)]\n",
      "(2017, 1, 13, 'Friday') [('Brownie', 1), ('Juice', 1), ('Tiffin', 1), ('Cookies', 2), ('Farm House', 2)]\n",
      "(2017, 1, 14, 'Saturday') [('Focaccia', 1), ('Frittata', 1), ('Fudge', 1), ('Mineral water', 1), ('Muffin', 1)]\n",
      "(2017, 1, 15, 'Sunday') [('Brioche and salami', 1), ('Cookies', 1), ('Gingerbread syrup', 1), ('Hot chocolate', 1), ('Mineral water', 1)]\n",
      "(2017, 1, 16, 'Monday') [('Afternoon with the baker', 1), ('Brownie', 1), ('Cake', 1), ('Jammie Dodgers', 1), ('Juice', 1)]\n",
      "(2017, 1, 17, 'Tuesday') [('Chicken Stew', 1), ('Cookies', 1), ('Farm House', 1), ('Hot chocolate', 1), ('Jammie Dodgers', 1)]\n",
      "(2017, 1, 18, 'Wednesday') [('Alfajores', 1), ('Crisps', 1), (\"Ella's Kitchen Pouches\", 1), ('Farm House', 1), ('Fudge', 1)]\n",
      "(2017, 1, 19, 'Thursday') [('Coke', 1), ('Crisps', 1), ('Focaccia', 1), ('Granola', 1), ('Jammie Dodgers', 1)]\n",
      "(2017, 1, 20, 'Friday') [('Afternoon with the baker', 1), ('Alfajores', 1), ('Brownie', 1), ('Granola', 1), ('Juice', 1)]\n",
      "(2017, 1, 21, 'Saturday') [('Coke', 1), ('Duck egg', 1), ('Granola', 1), ('Jam', 1), ('Muffin', 1)]\n",
      "(2017, 1, 22, 'Sunday') [('Brownie', 1), ('Duck egg', 1), ('Eggs', 1), ('Extra Salami or Feta', 1), ('Fudge', 1)]\n",
      "(2017, 1, 23, 'Monday') [('Alfajores', 1), ('Chicken Stew', 1), ('Coke', 1), ('Crisps', 1), ('Extra Salami or Feta', 1)]\n",
      "(2017, 1, 24, 'Tuesday') [('Frittata', 1), ('Fudge', 1), ('Hot chocolate', 1), ('Juice', 1), ('Sandwich', 1)]\n",
      "(2017, 1, 25, 'Wednesday') [('Chicken Stew', 1), ('Eggs', 1), ('Farm House', 1), ('Hot chocolate', 1), ('Juice', 1)]\n",
      "(2017, 1, 26, 'Thursday') [('Art Tray', 1), ('Jam', 1), ('Toast', 1), ('Chicken Stew', 2), ('Farm House', 2)]\n",
      "(2017, 1, 27, 'Friday') [('Baguette', 1), ('Chicken Stew', 1), ('Extra Salami or Feta', 1), ('Scandinavian', 1), ('The Nomad', 1)]\n",
      "(2017, 1, 28, 'Saturday') [('Alfajores', 1), ('Chicken Stew', 1), ('Coke', 1), ('Eggs', 1), ('Gingerbread syrup', 1)]\n",
      "(2017, 1, 29, 'Sunday') [('Alfajores', 1), ('Extra Salami or Feta', 1), ('Fudge', 1), ('Jam', 1), ('Muffin', 1)]\n",
      "(2017, 1, 30, 'Monday') [('Baguette', 1), ('Chicken Stew', 1), ('Coke', 1), ('Fudge', 1), ('Juice', 1)]\n",
      "(2017, 1, 31, 'Tuesday') [('Bakewell', 1), ('Chicken Stew', 1), ('Salad', 1), ('Scandinavian', 1), ('The Nomad', 1)]\n",
      "(2017, 2, 1, 'Wednesday') [('Bakewell', 1), ('Brownie', 1), ('Chicken Stew', 1), ('Extra Salami or Feta', 1), ('Farm House', 1)]\n",
      "(2017, 2, 2, 'Thursday') [('Brownie', 1), ('Extra Salami or Feta', 1), ('Fudge', 1), ('Jam', 1), ('Medialuna', 1)]\n",
      "(2017, 2, 3, 'Friday') [('Afternoon with the baker', 1), ('Chicken Stew', 1), ('Coke', 1), ('Gingerbread syrup', 1), ('Mineral water', 1)]\n",
      "(2017, 2, 4, 'Saturday') [('Extra Salami or Feta', 1), ('Granola', 1), ('Jam', 1), ('Medialuna', 1), ('Nomad bag', 1)]\n",
      "(2017, 2, 5, 'Sunday') [('Coke', 1), ('Salad', 1), ('Baguette', 2), ('Brownie', 2), ('Chicken Stew', 2)]\n",
      "(2017, 2, 6, 'Monday') [('Chicken Stew', 1), ('Jam', 1), ('Mineral water', 1), ('Alfajores', 2), ('Baguette', 2)]\n",
      "(2017, 2, 7, 'Tuesday') [('Chocolates', 1), ('Mineral water', 1), ('Nomad bag', 1), ('Salad', 1), ('Scandinavian', 1)]\n",
      "(2017, 2, 8, 'Wednesday') [('Art Tray', 1), ('Baguette', 1), ('Crisps', 1), ('Eggs', 1), ('Nomad bag', 1)]\n",
      "(2017, 2, 9, 'Thursday') [('Eggs', 1), ('Extra Salami or Feta', 1), ('Fudge', 1), ('Jam', 1), ('NONE', 1)]\n",
      "(2017, 2, 10, 'Friday') [('Afternoon with the baker', 1), ('Coke', 1), ('Duck egg', 1), ('The Nomad', 1), (\"Valentine's card\", 1)]\n",
      "(2017, 2, 11, 'Saturday') [('Afternoon with the baker', 1), ('Art Tray', 1), ('Farm House', 1), ('Fudge', 1), ('Truffles', 1)]\n",
      "(2017, 2, 12, 'Sunday') [('Chicken Stew', 1), ('Duck egg', 1), ('Eggs', 1), ('Extra Salami or Feta', 1), ('Farm House', 1)]\n",
      "(2017, 2, 13, 'Monday') [('Chocolates', 1), ('Eggs', 1), ('Focaccia', 1), ('Fudge', 1), ('Salad', 1)]\n",
      "(2017, 2, 14, 'Tuesday') [('Juice', 1), ('Mineral water', 1), ('NONE', 1), ('Salad', 1), ('Sandwich', 1)]\n",
      "(2017, 2, 15, 'Wednesday') [('Art Tray', 1), ('Brownie', 1), ('Jammie Dodgers', 1), ('Juice', 1), ('NONE', 1)]\n",
      "(2017, 2, 16, 'Thursday') [('Duck egg', 1), ('Extra Salami or Feta', 1), ('Fudge', 1), ('Jammie Dodgers', 1), ('Muffin', 1)]\n",
      "(2017, 2, 17, 'Friday') [('Chocolates', 1), ('Toast', 1), ('Alfajores', 2), ('Farm House', 2), ('Mineral water', 2)]\n",
      "(2017, 2, 18, 'Saturday') [('Afternoon with the baker', 1), ('Chocolates', 1), ('Cookies', 1), ('Extra Salami or Feta', 1), ('Fudge', 1)]\n",
      "(2017, 2, 19, 'Sunday') [('Coffee granules ', 1), ('Coke', 1), ('Duck egg', 1), ('Extra Salami or Feta', 1), ('Granola', 1)]\n",
      "(2017, 2, 20, 'Monday') [('Coke', 1), ('Eggs', 1), ('Jammie Dodgers', 1), ('Salad', 1), ('Smoothies', 1)]\n",
      "(2017, 2, 21, 'Tuesday') [('Baguette', 1), ('Chicken Stew', 1), ('Medialuna', 1), ('Mineral water', 1), ('Salad', 1)]\n",
      "(2017, 2, 22, 'Wednesday') [('Baguette', 1), ('Chicken Stew', 1), ('Coke', 1), ('Cookies', 1), ('Fudge', 1)]\n",
      "(2017, 2, 23, 'Thursday') [('Jam', 1), ('Jammie Dodgers', 1), ('Medialuna', 1), ('Mineral water', 1), ('Alfajores', 2)]\n",
      "(2017, 2, 24, 'Friday') [('Afternoon with the baker', 1), ('Baguette', 1), ('Chicken Stew', 1), ('Hot chocolate', 1), ('Jam', 1)]\n",
      "(2017, 2, 25, 'Saturday') [('Chicken Stew', 1), ('Chocolates', 1), ('Eggs', 1), ('Farm House', 1), ('Jam', 1)]\n",
      "(2017, 2, 26, 'Sunday') [('Baguette', 1), ('Chicken Stew', 1), ('Eggs', 1), ('Extra Salami or Feta', 1), ('Jam', 1)]\n",
      "(2017, 2, 27, 'Monday') [('Coke', 1), ('Granola', 1), ('Juice', 1), ('NONE', 1), ('Sandwich', 1)]\n",
      "(2017, 2, 28, 'Tuesday') [('Jammie Dodgers', 1), ('Juice', 1), ('Mineral water', 1), ('Smoothies', 1), ('Spanish Brunch', 1)]\n",
      "(2017, 3, 1, 'Wednesday') [('Alfajores', 1), ('Coke', 1), ('Cookies', 1), ('Duck egg', 1), ('Farm House', 1)]\n",
      "(2017, 3, 2, 'Thursday') [('Baguette', 1), ('Chicken Stew', 1), ('Cookies', 1), ('Jam', 1), ('Juice', 1)]\n",
      "(2017, 3, 3, 'Friday') [('Coke', 1), ('Duck egg', 1), ('Eggs', 1), ('Mineral water', 1), ('Muffin', 1)]\n",
      "(2017, 3, 4, 'Saturday') [('Art Tray', 1), ('Extra Salami or Feta', 1), ('Farm House', 1), ('Granola', 1), ('Jammie Dodgers', 1)]\n",
      "(2017, 3, 5, 'Sunday') [('Alfajores', 1), ('Brownie', 1), ('Coke', 1), ('Cookies', 1), ('Jam', 1)]\n",
      "(2017, 3, 6, 'Monday') [('Afternoon with the baker', 1), ('Cookies', 1), ('Drinking chocolate spoons ', 1), ('Hot chocolate', 1), ('Jammie Dodgers', 1)]\n",
      "(2017, 3, 7, 'Tuesday') [('Chicken Stew', 1), ('Coke', 1), ('Fudge', 1), ('Granola', 1), ('Jam', 1)]\n",
      "(2017, 3, 8, 'Wednesday') [('Farm House', 1), ('Hot chocolate', 1), ('Jammie Dodgers', 1), ('Juice', 1), ('Medialuna', 1)]\n",
      "(2017, 3, 9, 'Thursday') [('Christmas common', 1), ('Jammie Dodgers', 1), ('Medialuna', 1), ('Scandinavian', 1), ('Baguette', 2)]\n",
      "(2017, 3, 10, 'Friday') [('Baguette', 1), ('Brownie', 1), ('Chicken Stew', 1), ('Hot chocolate', 1), ('Jam', 1)]\n",
      "(2017, 3, 11, 'Saturday') [('Argentina Night', 1), ('Chicken Stew', 1), ('Chocolates', 1), ('Drinking chocolate spoons ', 1), ('Fudge', 1)]\n",
      "(2017, 3, 12, 'Sunday') [('Chicken Stew', 1), ('Chocolates', 1), ('Coke', 1), ('Drinking chocolate spoons ', 1), ('Farm House', 1)]\n",
      "(2017, 3, 13, 'Monday') [('Hot chocolate', 1), ('Jam', 1), ('Juice', 1), ('Muffin', 1), ('Scone', 1)]\n",
      "(2017, 3, 14, 'Tuesday') [('Farm House', 1), ('Gift voucher', 1), ('Hot chocolate', 1), ('Mineral water', 1), ('Muffin', 1)]\n",
      "(2017, 3, 15, 'Wednesday') [('Bakewell', 1), ('Christmas common', 1), ('Extra Salami or Feta', 1), ('Jam', 1), ('Juice', 1)]\n",
      "(2017, 3, 16, 'Thursday') [('Bakewell', 1), ('Cherry me Dried fruit', 1), ('Coke', 1), ('Crisps', 1), ('Eggs', 1)]\n",
      "(2017, 3, 17, 'Friday') [('Bakewell', 1), ('Coffee granules ', 1), ('Coke', 1), ('Extra Salami or Feta', 1), ('Half slice Monster ', 1)]\n",
      "(2017, 3, 18, 'Saturday') [('Afternoon with the baker', 1), ('Chicken Stew', 1), ('Coke', 1), ('Duck egg', 1), ('Farm House', 1)]\n",
      "(2017, 3, 19, 'Sunday') [('Afternoon with the baker', 1), ('Art Tray', 1), ('Baguette', 1), ('Chicken Stew', 1), ('Coke', 1)]\n",
      "(2017, 3, 20, 'Monday') [('Coffee granules ', 1), ('Jam', 1), ('Medialuna', 1), ('Mineral water', 1), ('Truffles', 1)]\n",
      "(2017, 3, 21, 'Tuesday') [('Half slice Monster ', 1), ('Jam', 1), ('Juice', 1), ('Scandinavian', 1), ('Spanish Brunch', 1)]\n",
      "(2017, 3, 22, 'Wednesday') [('Cherry me Dried fruit', 1), ('Chicken Stew', 1), ('Granola', 1), ('Mineral water', 1), ('Mortimer', 1)]\n",
      "(2017, 3, 23, 'Thursday') [('Argentina Night', 1), ('Coke', 1), ('Drinking chocolate spoons ', 1), ('Mineral water', 1), ('Mortimer', 1)]\n",
      "(2017, 3, 24, 'Friday') [('Eggs', 1), ('Farm House', 1), ('Hot chocolate', 1), ('Medialuna', 1), ('Mineral water', 1)]\n",
      "(2017, 3, 25, 'Saturday') [('Chicken Stew', 1), ('Drinking chocolate spoons ', 1), ('Duck egg', 1), ('Eggs', 1), ('Extra Salami or Feta', 1)]\n",
      "(2017, 3, 26, 'Sunday') [('Cookies', 1), ('Extra Salami or Feta', 1), ('Granola', 1), ('Jammie Dodgers', 1), ('Mineral water', 1)]\n",
      "(2017, 3, 27, 'Monday') [('Cookies', 1), ('Salad', 1), ('Soup', 1), ('The Nomad', 1), ('Brownie', 2)]\n",
      "(2017, 3, 28, 'Tuesday') [('Chicken Stew', 1), ('Eggs', 1), ('Farm House', 1), ('Jammie Dodgers', 1), ('Scone', 1)]\n",
      "(2017, 3, 29, 'Wednesday') [('Art Tray', 1), ('Chicken Stew', 1), ('Coke', 1), ('Drinking chocolate spoons ', 1), ('Farm House', 1)]\n",
      "(2017, 3, 30, 'Thursday') [('Chicken Stew', 1), ('Coke', 1), ('Extra Salami or Feta', 1), ('Farm House', 1), ('Mortimer', 1)]\n",
      "(2017, 3, 31, 'Friday') [('Jammie Dodgers', 1), ('Mineral water', 1), ('Alfajores', 2), ('Baguette', 2), ('Chicken Stew', 2)]\n",
      "(2017, 4, 1, 'Saturday') [('Coffee granules ', 1), ('Crisps', 1), ('Extra Salami or Feta', 1), ('Granola', 1), ('Honey', 1)]\n",
      "(2017, 4, 2, 'Sunday') [('Alfajores', 1), ('Argentina Night', 1), ('Brownie', 1), ('Coke', 1), ('Crisps', 1)]\n",
      "(2017, 4, 3, 'Monday') [('Coffee granules ', 1), ('Coke', 1), ('Granola', 1), ('Jammie Dodgers', 1), ('Juice', 1)]\n",
      "(2017, 4, 4, 'Tuesday') [('Baguette', 1), ('Coke', 1), ('Drinking chocolate spoons ', 1), ('Eggs', 1), ('Honey', 1)]\n",
      "(2017, 4, 5, 'Wednesday') [('Alfajores', 1), ('Chicken Stew', 1), ('Chocolates', 1), ('Christmas common', 1), ('Drinking chocolate spoons ', 1)]\n",
      "(2017, 4, 6, 'Thursday') [('Art Tray', 1), ('Brioche and salami', 1), ('Christmas common', 1), ('Crisps', 1), ('Jammie Dodgers', 1)]\n",
      "(2017, 4, 7, 'Friday') [('Baguette', 1), ('Salad', 1), ('Juice', 2), ('Mineral water', 2), ('Muffin', 2)]\n",
      "(2017, 4, 8, 'Saturday') [('Cherry me Dried fruit', 1), ('Christmas common', 1), ('Eggs', 1), ('Extra Salami or Feta', 1), ('Granola', 1)]\n"
     ]
    }
   ],
   "source": [
    "b = dict(data.groupby(['Year','Month','Day','Weekday','Item'])['Item'].size())\n",
    "pre = (2016,10,30,'Sunday')\n",
    "\n",
    "temp = dict()\n",
    "for i in b.keys():\n",
    "    if i[3] == pre[3]:\n",
    "        temp[i[4]] = b[i]\n",
    "    else :\n",
    "        aa = sorted(temp.items(),key=lambda x:x[1],reverse=False)\n",
    "        print(pre,aa[0:5])\n",
    "        pre = (i[0],i[1],i[2],i[3])\n",
    "        temp = dict()\n",
    "        temp[i[4]] = b[i]\n",
    "#question 8"
   ]
  },
  {
   "cell_type": "code",
   "execution_count": 188,
   "metadata": {},
   "outputs": [
    {
     "name": "stdout",
     "output_type": "stream",
     "text": [
      "Transaction  Type   \n",
      "1            food       1\n",
      "2            unknown    2\n",
      "3            drinks     1\n",
      "             food       2\n",
      "4            food       1\n",
      "                       ..\n",
      "9682         drinks     2\n",
      "             food       2\n",
      "9683         drinks     1\n",
      "             food       1\n",
      "9684         unknown    1\n",
      "Length: 14902, dtype: int64\n"
     ]
    }
   ],
   "source": [
    "a= data.groupby(['Transaction','Type']).size()\n",
    "print(a)\n"
   ]
  },
  {
   "cell_type": "code",
   "execution_count": 222,
   "metadata": {},
   "outputs": [
    {
     "name": "stdout",
     "output_type": "stream",
     "text": [
      "there are 0.90 drinks per transction\n"
     ]
    }
   ],
   "source": [
    "a= data.drop_duplicates('Transaction')['Transaction'].count()\n",
    "b = data.groupby('Type').size().tolist()[0]\n",
    "ratio = b/a\n",
    "print('there are %.2f drinks per transction'%ratio)"
   ]
  },
  {
   "cell_type": "code",
   "execution_count": null,
   "metadata": {},
   "outputs": [],
   "source": []
  }
 ],
 "metadata": {
  "kernelspec": {
   "display_name": "Python 3",
   "language": "python",
   "name": "python3"
  },
  "language_info": {
   "codemirror_mode": {
    "name": "ipython",
    "version": 3
   },
   "file_extension": ".py",
   "mimetype": "text/x-python",
   "name": "python",
   "nbconvert_exporter": "python",
   "pygments_lexer": "ipython3",
   "version": "3.8.3"
  }
 },
 "nbformat": 4,
 "nbformat_minor": 4
}
