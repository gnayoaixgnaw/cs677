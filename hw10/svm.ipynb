{
 "cells": [
  {
   "cell_type": "code",
   "execution_count": 5,
   "metadata": {},
   "outputs": [],
   "source": [
    "import pandas as pd\n",
    "import numpy as np\n",
    "import matplotlib.pyplot as plt\n",
    "from sklearn import svm\n",
    "from sklearn.metrics import confusion_matrix\n",
    "from sklearn.preprocessing import StandardScaler, LabelEncoder\n"
   ]
  },
  {
   "cell_type": "code",
   "execution_count": 2,
   "metadata": {},
   "outputs": [
    {
     "name": "stderr",
     "output_type": "stream",
     "text": [
      "/Users/wangxiaoyang/opt/anaconda3/lib/python3.8/site-packages/pandas/core/frame.py:3990: SettingWithCopyWarning: \n",
      "A value is trying to be set on a copy of a slice from a DataFrame\n",
      "\n",
      "See the caveats in the documentation: https://pandas.pydata.org/pandas-docs/stable/user_guide/indexing.html#returning-a-view-versus-a-copy\n",
      "  return super().drop(\n"
     ]
    }
   ],
   "source": [
    "data = pd.read_csv('WMT1.csv')\n",
    "data_17 = data[data.Year == 2017]\n",
    "\n",
    "# calculate the mean std\n",
    "mean_17 = data_17.groupby('Week_Number')['Return'].mean().tolist()\n",
    "std_17 = data_17.groupby('Week_Number')['Return'].std().tolist()\n",
    "week_id_17 = list(data_17.groupby('Week_Number').indices.keys())\n",
    "color_17 = data_17.groupby('Week_Number')['label'].agg(lambda x: x.mode()).tolist()\n",
    "\n",
    "data_18 = data[data.Year == 2018]\n",
    "data_18.drop(data_18.index[-1], inplace=True)\n",
    "\n",
    "# calculate the mean std\n",
    "mean_18 = data_18.groupby('Week_Number')['Return'].mean().tolist()\n",
    "std_18 = data_18.groupby('Week_Number')['Return'].std().tolist()\n",
    "weekly_18 = data[(data.Year == 2018) & (data.Weekday == 'Friday')]['Adj Close'].values  # select Friday's data\n",
    "\n",
    "week_id_18 = list(data_18.groupby('Week_Number').indices.keys())\n",
    "color_18 = data_18.groupby('Week_Number')['label'].agg(lambda x: x.mode()).tolist()\n"
   ]
  },
  {
   "cell_type": "code",
   "execution_count": 3,
   "metadata": {},
   "outputs": [],
   "source": [
    "df_17 = pd.DataFrame(\n",
    "    {\n",
    "        'id':week_id_17,\n",
    "        'mean':mean_17,\n",
    "        'std':std_17,\n",
    "        'label':color_17\n",
    "    },\n",
    "    columns = ['id','mean','std','label']\n",
    ")\n",
    "\n",
    "df_18 = pd.DataFrame(\n",
    "    {\n",
    "        'id':week_id_18,\n",
    "        'mean':mean_18,\n",
    "        'std':std_18,\n",
    "        'label':color_18\n",
    "    },\n",
    "    columns = ['id','mean','std','label']\n",
    ")"
   ]
  },
  {
   "cell_type": "code",
   "execution_count": 4,
   "metadata": {},
   "outputs": [],
   "source": [
    "x_train = df_17[['mean','std']].values\n",
    "scaler = StandardScaler()\n",
    "scaler.fit(x_train)\n",
    "x_train = scaler.transform(x_train)\n",
    "y_train= df_17['label'].values\n",
    "\n",
    "x_test = df_18[['mean','std']].values\n",
    "scaler = StandardScaler()\n",
    "scaler.fit(x_test)\n",
    "x_test = scaler.transform(x_test)\n",
    "y_test = df_18['label'].values"
   ]
  },
  {
   "cell_type": "code",
   "execution_count": 11,
   "metadata": {},
   "outputs": [
    {
     "data": {
      "text/plain": [
       "0.9038461538461539"
      ]
     },
     "execution_count": 11,
     "metadata": {},
     "output_type": "execute_result"
    }
   ],
   "source": [
    "svm_classifier = svm.SVC(kernel ='linear')\n",
    "svm_classifier.fit(x_train,y_train)\n",
    "predicted = svm_classifier.predict(x_test)\n",
    "accuracy = svm_classifier.score(x_test,y_test)\n",
    "accuracy # question1"
   ]
  },
  {
   "cell_type": "code",
   "execution_count": 12,
   "metadata": {},
   "outputs": [
    {
     "data": {
      "text/plain": [
       "array([[31,  0],\n",
       "       [ 5, 16]])"
      ]
     },
     "execution_count": 12,
     "metadata": {},
     "output_type": "execute_result"
    }
   ],
   "source": [
    "#question2\n",
    "a = confusion_matrix(y_test,predicted)\n",
    "a"
   ]
  },
  {
   "cell_type": "code",
   "execution_count": 13,
   "metadata": {},
   "outputs": [
    {
     "name": "stdout",
     "output_type": "stream",
     "text": [
      "true positive rate is : 1.0\n",
      "true negative rate is : 0.7619047619047619\n"
     ]
    }
   ],
   "source": [
    "#question3\n",
    "TPR = a[0][0]/(a[0][0]+a[0][1])\n",
    "TNR = a[1][1]/(a[1][0]+a[1][1])\n",
    "print('true positive rate is :',TPR)\n",
    "print('true negative rate is :',TNR)"
   ]
  },
  {
   "cell_type": "code",
   "execution_count": 14,
   "metadata": {},
   "outputs": [
    {
     "data": {
      "text/plain": [
       "0.9038461538461539"
      ]
     },
     "execution_count": 14,
     "metadata": {},
     "output_type": "execute_result"
    }
   ],
   "source": [
    "svm_classifier = svm.SVC(kernel ='rbf')\n",
    "svm_classifier.fit(x_train,y_train)\n",
    "prediction = svm_classifier.predict(x_test)\n",
    "accuracy = svm_classifier.score(x_test,y_test)\n",
    "accuracy # question4"
   ]
  },
  {
   "cell_type": "code",
   "execution_count": 16,
   "metadata": {},
   "outputs": [
    {
     "name": "stdout",
     "output_type": "stream",
     "text": [
      "its accuracy is same as linear SVM\n"
     ]
    }
   ],
   "source": [
    "print('its accuracy is same as linear SVM')"
   ]
  },
  {
   "cell_type": "code",
   "execution_count": 17,
   "metadata": {},
   "outputs": [
    {
     "data": {
      "text/plain": [
       "0.6153846153846154"
      ]
     },
     "execution_count": 17,
     "metadata": {},
     "output_type": "execute_result"
    }
   ],
   "source": [
    "svm_classifier = svm.SVC(kernel ='poly', degree = 2)\n",
    "svm_classifier.fit(x_train,y_train)\n",
    "prediction = svm_classifier.predict(x_test)\n",
    "accuracy = svm_classifier.score(x_test,y_test)\n",
    "accuracy # question5"
   ]
  },
  {
   "cell_type": "code",
   "execution_count": 18,
   "metadata": {},
   "outputs": [
    {
     "name": "stdout",
     "output_type": "stream",
     "text": [
      "its accuracy worse than linear SVM\n"
     ]
    }
   ],
   "source": [
    "print('its accuracy worse than linear SVM')"
   ]
  },
  {
   "cell_type": "code",
   "execution_count": 19,
   "metadata": {},
   "outputs": [],
   "source": [
    "#question4\n",
    "previous_shares = 0\n",
    "previous_balance = 100\n",
    "weekly_balance = []\n",
    "for i in range(len(weekly_18)-1):\n",
    "    if predicted[i+1] == 'green':\n",
    "        if previous_shares ==0 :\n",
    "            previous_shares = previous_balance/weekly_18[i]\n",
    "    elif predicted[i+1] == 'red':\n",
    "        if previous_shares != 0:\n",
    "            previous_balance = previous_shares*weekly_18[i]\n",
    "            previous_shares = 0\n",
    "\n",
    "    weekly_balance.append(previous_balance)\n",
    "result1 = weekly_balance[-1]"
   ]
  },
  {
   "cell_type": "code",
   "execution_count": 20,
   "metadata": {},
   "outputs": [
    {
     "name": "stdout",
     "output_type": "stream",
     "text": [
      "result based on my labels: 122.844823 $\n",
      "result based on buy and hold: 94.188504 $\n",
      "my labels results in a large amount at the end of the year\n"
     ]
    }
   ],
   "source": [
    "result2 = 100/weekly_18[0]*weekly_18[-1]\n",
    "\n",
    "print('result based on my labels: %f $'%result1)\n",
    "print('result based on buy and hold: %f $'%result2)\n",
    "print('my labels results in a large amount at the end of the year')"
   ]
  },
  {
   "cell_type": "code",
   "execution_count": null,
   "metadata": {},
   "outputs": [],
   "source": []
  }
 ],
 "metadata": {
  "kernelspec": {
   "display_name": "Python 3",
   "language": "python",
   "name": "python3"
  },
  "language_info": {
   "codemirror_mode": {
    "name": "ipython",
    "version": 3
   },
   "file_extension": ".py",
   "mimetype": "text/x-python",
   "name": "python",
   "nbconvert_exporter": "python",
   "pygments_lexer": "ipython3",
   "version": "3.8.3"
  }
 },
 "nbformat": 4,
 "nbformat_minor": 4
}
