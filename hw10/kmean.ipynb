{
 "cells": [
  {
   "cell_type": "code",
   "execution_count": 7,
   "metadata": {},
   "outputs": [],
   "source": [
    "import pandas as pd\n",
    "import numpy as np\n",
    "import matplotlib.pyplot as plt\n",
    "from sklearn.cluster import KMeans\n",
    "from sklearn.metrics import confusion_matrix\n",
    "from sklearn.preprocessing import StandardScaler, LabelEncoder\n"
   ]
  },
  {
   "cell_type": "code",
   "execution_count": 8,
   "metadata": {},
   "outputs": [
    {
     "name": "stderr",
     "output_type": "stream",
     "text": [
      "/Users/wangxiaoyang/opt/anaconda3/lib/python3.8/site-packages/pandas/core/frame.py:3990: SettingWithCopyWarning: \n",
      "A value is trying to be set on a copy of a slice from a DataFrame\n",
      "\n",
      "See the caveats in the documentation: https://pandas.pydata.org/pandas-docs/stable/user_guide/indexing.html#returning-a-view-versus-a-copy\n",
      "  return super().drop(\n"
     ]
    }
   ],
   "source": [
    "data = pd.read_csv('WMT1.csv')\n",
    "data_17 = data[data.Year == 2017]\n",
    "\n",
    "# calculate the mean std\n",
    "mean_17 = data_17.groupby('Week_Number')['Return'].mean().tolist()\n",
    "std_17 = data_17.groupby('Week_Number')['Return'].std().tolist()\n",
    "week_id_17 = list(data_17.groupby('Week_Number').indices.keys())\n",
    "color_17 = data_17.groupby('Week_Number')['label'].agg(lambda x: x.mode()).tolist()\n",
    "\n",
    "data_18 = data[data.Year == 2018]\n",
    "data_18.drop(data_18.index[-1], inplace=True)\n",
    "\n",
    "# calculate the mean std\n",
    "mean_18 = data_18.groupby('Week_Number')['Return'].mean().tolist()\n",
    "std_18 = data_18.groupby('Week_Number')['Return'].std().tolist()\n",
    "weekly_18 = data[(data.Year == 2018) & (data.Weekday == 'Friday')]['Adj Close'].values  # select Friday's data\n",
    "\n",
    "week_id_18 = list(data_18.groupby('Week_Number').indices.keys())\n",
    "color_18 = data_18.groupby('Week_Number')['label'].agg(lambda x: x.mode()).tolist()\n"
   ]
  },
  {
   "cell_type": "code",
   "execution_count": 59,
   "metadata": {},
   "outputs": [],
   "source": [
    "df_17 = pd.DataFrame(\n",
    "    {\n",
    "        'id':week_id_17,\n",
    "        'mean':mean_17,\n",
    "        'std':std_17,\n",
    "        'label':color_17\n",
    "    },\n",
    "    columns = ['id','mean','std','label']\n",
    ")\n",
    "\n",
    "df_18 = pd.DataFrame(\n",
    "    {\n",
    "        'id':week_id_18,\n",
    "        'mean':mean_18,\n",
    "        'std':std_18,\n",
    "        'label':color_18\n",
    "    },\n",
    "    columns = ['id','mean','std','label']\n",
    ")\n",
    "\n",
    "df_17_18 = pd.DataFrame(\n",
    "    {\n",
    "        'id':week_id_17+week_id_18,\n",
    "        'mean':mean_17+mean_18,\n",
    "        'std':std_17+std_18,\n",
    "        'label':color_17+color_18\n",
    "    },\n",
    "    columns = ['id','mean','std','label']\n",
    ")"
   ]
  },
  {
   "cell_type": "code",
   "execution_count": 60,
   "metadata": {},
   "outputs": [],
   "source": [
    "x_train = df_17[['mean','std']].values\n",
    "scaler = StandardScaler()\n",
    "scaler.fit(x_train)\n",
    "x_train = scaler.transform(x_train)\n",
    "y_train= df_17['label'].values\n",
    "\n",
    "x_test = df_18[['mean','std']].values\n",
    "scaler = StandardScaler()\n",
    "scaler.fit(x_test)\n",
    "x_test = scaler.transform(x_test)\n",
    "y_test = df_18['label'].values\n",
    "\n",
    "x = df_17_18[['mean','std']].values\n",
    "scaler = StandardScaler()\n",
    "scaler.fit(x)\n",
    "y = df_17_18['label'].values"
   ]
  },
  {
   "cell_type": "code",
   "execution_count": 61,
   "metadata": {},
   "outputs": [
    {
     "name": "stderr",
     "output_type": "stream",
     "text": [
      "No handles with labels found to put in legend.\n"
     ]
    },
    {
     "data": {
      "image/png": "[encoded data removed]",
      "text/plain": [
       "<Figure size 504x360 with 1 Axes>"
      ]
     },
     "metadata": {
      "needs_background": "light"
     },
     "output_type": "display_data"
    }
   ],
   "source": [
    "from sklearn import datasets\n",
    "import matplotlib.pyplot as plt\n",
    "from sklearn.cluster import KMeans\n",
    "\n",
    "\n",
    "\n",
    "inertia_list = []\n",
    "\n",
    "for k in range (1 ,9):\n",
    "    \n",
    "    kmeans_classifier = KMeans (n_clusters =k)\n",
    "    y_kmeans = kmeans_classifier.fit_predict(x)\n",
    "    inertia = kmeans_classifier.inertia_\n",
    "    inertia_list.append (inertia)\n",
    "    \n",
    "fig , ax = plt.subplots(1, figsize =(7,5))\n",
    "plt.plot(range (1, 9),inertia_list, marker ='o',color ='green')\n",
    "plt.legend()\n",
    "plt.xlabel('number of clusters : k')\n",
    "plt.ylabel('inertia')\n",
    "plt.tight_layout ()\n",
    "plt.show()\n"
   ]
  },
  {
   "cell_type": "code",
   "execution_count": 63,
   "metadata": {},
   "outputs": [
    {
     "name": "stdout",
     "output_type": "stream",
     "text": [
      "when k = 8 no more signicant decline in inertia\n"
     ]
    }
   ],
   "source": [
    "print('when k = 8 no more signicant decline in inertia')"
   ]
  },
  {
   "cell_type": "code",
   "execution_count": 65,
   "metadata": {},
   "outputs": [
    {
     "data": {
      "text/plain": [
       "array([0, 0, 2, 0, 7, 2, 7, 6, 0, 5, 5, 5, 7, 7, 5, 5, 5, 5, 5, 6, 5, 7,\n",
       "       0, 3, 0, 7, 5, 2, 5, 7, 5, 7, 0, 0, 5, 2, 5, 5, 0, 5, 6, 7, 7, 7,\n",
       "       7, 1, 5, 5, 5, 5, 7, 5, 5, 7, 7, 7, 0, 3, 7, 4, 0, 2, 7, 0, 6, 3,\n",
       "       5, 7, 7, 2, 3, 2, 0, 2, 2, 5, 7, 2, 0, 7, 5, 5, 7, 7, 1, 0, 7, 7,\n",
       "       0, 5, 0, 0, 2, 2, 7, 2, 7, 0, 3, 7, 3, 0, 3, 6], dtype=int32)"
      ]
     },
     "execution_count": 65,
     "metadata": {},
     "output_type": "execute_result"
    }
   ],
   "source": [
    "kmeans_classifier = KMeans(n_clusters =8) \n",
    "y_kmeans = kmeans_classifier.fit_predict (x)\n",
    "centroids = kmeans_classifier.cluster_centers_\n",
    "y_kmeans"
   ]
  },
  {
   "cell_type": "code",
   "execution_count": 67,
   "metadata": {},
   "outputs": [
    {
     "name": "stdout",
     "output_type": "stream",
     "text": [
      "red percent in 0 is 1.000000\n",
      "green percent in 0 is 0.000000\n",
      "red percent in 1 is 0.000000\n",
      "green percent in 1 is 1.000000\n",
      "red percent in 2 is 0.000000\n",
      "green percent in 2 is 1.000000\n",
      "red percent in 3 is 1.000000\n",
      "green percent in 3 is 0.000000\n",
      "red percent in 4 is 1.000000\n",
      "green percent in 4 is 0.000000\n",
      "red percent in 5 is 0.407407\n",
      "green percent in 5 is 0.592593\n",
      "red percent in 6 is 0.000000\n",
      "green percent in 6 is 1.000000\n",
      "red percent in 7 is 0.034483\n",
      "green percent in 7 is 0.965517\n"
     ]
    }
   ],
   "source": [
    "for k in range(8):\n",
    "    green_case = 0\n",
    "    red_case = 0\n",
    "    for i in zip(y_kmeans,y):\n",
    "        if i[0] == k:\n",
    "            if i[1]=='red':\n",
    "                red_case+=1\n",
    "            elif i[1] == 'green':\n",
    "                green_case+=1\n",
    "    print('red percent in %d is %f'%(k,red_case/(red_case+green_case)))\n",
    "    print('green percent in %d is %f'%(k,green_case/(red_case+green_case)))"
   ]
  },
  {
   "cell_type": "code",
   "execution_count": 68,
   "metadata": {},
   "outputs": [
    {
     "name": "stdout",
     "output_type": "stream",
     "text": [
      "cluster 0,1,2,3,4,6,7 are pure clusters\n"
     ]
    }
   ],
   "source": [
    "print('cluster 0,1,2,3,4,6,7 are pure clusters')"
   ]
  },
  {
   "cell_type": "code",
   "execution_count": null,
   "metadata": {},
   "outputs": [],
   "source": []
  }
 ],
 "metadata": {
  "kernelspec": {
   "display_name": "Python 3",
   "language": "python",
   "name": "python3"
  },
  "language_info": {
   "codemirror_mode": {
    "name": "ipython",
    "version": 3
   },
   "file_extension": ".py",
   "mimetype": "text/x-python",
   "name": "python",
   "nbconvert_exporter": "python",
   "pygments_lexer": "ipython3",
   "version": "3.8.3"
  }
 },
 "nbformat": 4,
 "nbformat_minor": 4
}
