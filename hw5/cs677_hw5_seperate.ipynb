{
 "cells": [
  {
   "cell_type": "code",
   "execution_count": 13,
   "metadata": {},
   "outputs": [],
   "source": [
    "import pandas as pd\n",
    "import numpy as np\n",
    "import matplotlib.pyplot as plt\n"
   ]
  },
  {
   "cell_type": "code",
   "execution_count": 54,
   "metadata": {},
   "outputs": [
    {
     "name": "stderr",
     "output_type": "stream",
     "text": [
      "/Users/wangxiaoyang/opt/anaconda3/lib/python3.8/site-packages/pandas/core/frame.py:3990: SettingWithCopyWarning: \n",
      "A value is trying to be set on a copy of a slice from a DataFrame\n",
      "\n",
      "See the caveats in the documentation: https://pandas.pydata.org/pandas-docs/stable/user_guide/indexing.html#returning-a-view-versus-a-copy\n",
      "  return super().drop(\n"
     ]
    },
    {
     "data": {
      "image/png": "[encoded data removed]",
      "text/plain": [
       "<Figure size 432x288 with 1 Axes>"
      ]
     },
     "metadata": {
      "needs_background": "light"
     },
     "output_type": "display_data"
    }
   ],
   "source": [
    "data = pd.read_csv('WMT1.csv')\n",
    "data_17 = data[data.Year == 2017]\n",
    "data_17.drop(data_17.index[-1], inplace=True)\n",
    "\n",
    "# calculate the mean std\n",
    "mean_17 = data_17.groupby('Week_Number')['Return'].mean().tolist()\n",
    "std_17 = data_17.groupby('Week_Number')['Return'].std().tolist()\n",
    "week_id_17 = list(data_17.groupby('Week_Number').indices.keys())\n",
    "color_17 = data_17.groupby('Week_Number')['label'].agg(lambda x: x.mode()).tolist()\n",
    "fig = plt.figure()\n",
    "ax1 = fig.add_subplot(1,1, 1)\n",
    "ax1.set_title(2017)\n",
    "\n",
    "ax1.scatter(mean_17, std_17, c=color_17)\n",
    "ax1.set_xlabel(\"mean\")\n",
    "ax1.set_ylabel(\"std\")\n",
    "\n",
    "X = np.linspace(-0.0025, 0.001)\n",
    "Y = X*-11+0.005\n",
    "ax1.plot(X, Y)\n",
    "plt.show()\n",
    "\n",
    "# for i in range(len(mean_17)):\n",
    "#     plt.annotate(week_id_17[i], xy=(mean_17[i], std_17[i]), xytext=(mean_17[i], std_17[i]))\n"
   ]
  },
  {
   "cell_type": "code",
   "execution_count": 53,
   "metadata": {},
   "outputs": [
    {
     "name": "stdout",
     "output_type": "stream",
     "text": [
      "52\n",
      "1.0\n"
     ]
    }
   ],
   "source": [
    "accuracy = 0\n",
    "for i in range(len(mean_17)):\n",
    "    y = mean_17[i]*-11+0.005\n",
    "    if y > std_17[i]:\n",
    "        if color_17[i] == 'red':\n",
    "            accuracy+=1\n",
    "    elif y < std_17[i]:\n",
    "        if color_17[i] == 'green':\n",
    "            accuracy+=1\n",
    "print(accuracy)\n",
    "print(accuracy/len(mean_17))"
   ]
  },
  {
   "cell_type": "code",
   "execution_count": 56,
   "metadata": {},
   "outputs": [
    {
     "name": "stdout",
     "output_type": "stream",
     "text": [
      "['green', 'green', 'green', 'green', 'red', 'red', 'green', 'red', 'red', 'green', 'green', 'red', 'green', 'red', 'red', 'green', 'green', 'green', 'red', 'green', 'red', 'green', 'green', 'red', 'green', 'green', 'red', 'green', 'green', 'green', 'green', 'green', 'green', 'red', 'green', 'green', 'red', 'green', 'red', 'red', 'green', 'green', 'green', 'green', 'green', 'red', 'red', 'green', 'red', 'red', 'red', 'green']\n"
     ]
    }
   ],
   "source": [
    "data_18 = data[data.Year == 2018]\n",
    "mean_18 = data_18.groupby('Week_Number')['Return'].mean().tolist()\n",
    "std_18 = data_18.groupby('Week_Number')['Return'].std().tolist()\n",
    "predict_list = []\n",
    "for i in range(len(mean_18)):\n",
    "    if (mean_18[i]*-11+0.005) > std_18[i]:\n",
    "        predict_list.append('red')\n",
    "    elif (mean_18[i]*-11+0.005) < std_18[i]:\n",
    "        predict_list.append('green')\n",
    "\n",
    "\n",
    "print(predict_list)"
   ]
  },
  {
   "cell_type": "code",
   "execution_count": 65,
   "metadata": {},
   "outputs": [
    {
     "name": "stdout",
     "output_type": "stream",
     "text": [
      "[100.0, 100.7396449704142, 104.4484361792054, 108.24175824175823, 108.24175824175823, 108.24175824175825, 114.13097656176873, 114.13097656176873, 114.13097656176872, 114.74312125131335, 115.32805951021159, 115.32805951021159, 117.03199538083773, 117.03199538083773, 117.03199538083773, 117.44238569112119, 117.76786766134602, 112.89978949798348, 112.89978949798348, 111.31958749551234, 111.31958749551232, 113.15622048819645, 112.27295423980638, 112.27295423980637, 113.37977325880631, 111.87173234541889, 111.8717323454189, 112.325032178543, 112.41835861477442, 114.2982196874361, 115.69811623090754, 125.53738907930692, 121.81766397808278, 121.81766397808278, 121.7780484776021, 120.2066336252019, 120.2066336252019, 117.70585633014949, 117.70585633014949, 117.70585633014947, 120.60851061273208, 122.82742855319522, 125.80748694998002, 131.04516534432906, 121.27934626915118, 121.27934626915118, 121.27934626915118, 116.37499896870663, 116.37499896870663, 116.37499896870663, 116.37499896870665]\n"
     ]
    }
   ],
   "source": [
    "weekly_18= data[(data.Year == 2018) & (data.Weekday == 'Friday')]['Adj Close'].tolist() # select Friday's data\n",
    "\n",
    "previous_shares = 0\n",
    "previous_balance = 100\n",
    "weekly_balance = []\n",
    "for i in range(len(predict_list)-1):\n",
    "    if  predict_list[i+1]== 'green':\n",
    "        if previous_shares == 0:\n",
    "            previous_shares = previous_balance / weekly_18[i]\n",
    "            previous_balance = previous_shares*weekly_18[i]\n",
    "        else:\n",
    "            previous_shares = previous_shares\n",
    "            previous_balance = previous_shares*weekly_18[i]\n",
    "    elif predict_list[i+1] == 'red':\n",
    "        if previous_shares != 0:\n",
    "            previous_balance = previous_shares*weekly_18[i]\n",
    "            previous_shares = 0\n",
    "        else:\n",
    "            previous_shares = previous_shares\n",
    "            previous_balance = previous_balance\n",
    "    weekly_balance.append(previous_balance)\n",
    "\n",
    "print(weekly_balance)"
   ]
  },
  {
   "cell_type": "code",
   "execution_count": 71,
   "metadata": {},
   "outputs": [
    {
     "data": {
      "image/png": "[encoded data removed]",
      "text/plain": [
       "<Figure size 432x288 with 1 Axes>"
      ]
     },
     "metadata": {
      "needs_background": "light"
     },
     "output_type": "display_data"
    }
   ],
   "source": [
    "data_18 = data[(data.Year == 2018) & (data.Weekday == 'Friday')]  # select Friday's data\n",
    "plt.plot(data_18['Week_Number'], weekly_balance, label=2018,color = 'red')\n",
    "plt.xlabel('week')\n",
    "plt.ylabel('balance($)')\n",
    "plt.title(2018)\n",
    "plt.legend()\n",
    "\n",
    "plt.show()"
   ]
  },
  {
   "cell_type": "code",
   "execution_count": null,
   "metadata": {},
   "outputs": [],
   "source": []
  }
 ],
 "metadata": {
  "kernelspec": {
   "display_name": "Python 3",
   "language": "python",
   "name": "python3"
  },
  "language_info": {
   "codemirror_mode": {
    "name": "ipython",
    "version": 3
   },
   "file_extension": ".py",
   "mimetype": "text/x-python",
   "name": "python",
   "nbconvert_exporter": "python",
   "pygments_lexer": "ipython3",
   "version": "3.8.3"
  }
 },
 "nbformat": 4,
 "nbformat_minor": 4
}
