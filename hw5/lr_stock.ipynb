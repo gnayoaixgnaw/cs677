{
 "cells": [
  {
   "cell_type": "code",
   "execution_count": 38,
   "metadata": {},
   "outputs": [],
   "source": [
    "from sklearn.linear_model import LogisticRegression\n",
    "import pandas as pd\n",
    "import matplotlib.pyplot as plt\n",
    "import numpy as np\n",
    "from sklearn.neighbors import KNeighborsClassifier\n",
    "from sklearn.model_selection import train_test_split\n",
    "from sklearn.preprocessing import StandardScaler\n",
    "pd.set_option('display.max_columns', None)\n"
   ]
  },
  {
   "cell_type": "code",
   "execution_count": 39,
   "metadata": {},
   "outputs": [],
   "source": [
    "data = pd.read_csv('WMT1.csv')\n",
    "data_17 = data[data.Year == 2017]\n",
    "# calculate the mean std\n",
    "\n",
    "mean_17 = data_17.groupby('Week_Number')['Return'].mean().tolist()\n",
    "std_17 = data_17.groupby('Week_Number')['Return'].std().tolist()\n",
    "X = []\n",
    "Y = []\n",
    "for i in range(len(mean_17)):\n",
    "    X.append([mean_17[i],std_17[i]])\n",
    "scaler = StandardScaler().fit(X)\n",
    "X = scaler.transform (X)\n",
    "weekly_17 = data_17.groupby('Week_Number')['label'] # select Friday's data\n",
    "for i,j in weekly_17:\n",
    "    Y.append(j.tolist()[0])"
   ]
  },
  {
   "cell_type": "code",
   "execution_count": 40,
   "metadata": {},
   "outputs": [],
   "source": [
    "data_18 = data[data.Year == 2018]\n",
    "# calculate the mean std\n",
    "\n",
    "mean_18 = data_18.groupby('Week_Number')['Return'].mean().tolist()[0:-1]\n",
    "std_18 = data_18.groupby('Week_Number')['Return'].std().tolist()[0:-1]\n",
    "\n",
    "X_18 = []\n",
    "Y_18 = []\n",
    "for i in range(len(mean_18)):\n",
    "    X_18.append([mean_18[i],std_18[i]])\n",
    "scaler = StandardScaler().fit(X_18)\n",
    "X_18 = scaler.transform (X_18)\n",
    "weekly_18 = data_18.groupby('Week_Number')['label'] # select Friday's data\n",
    "for i,j in weekly_18:\n",
    "    Y_18.append(j.tolist()[0])"
   ]
  },
  {
   "cell_type": "code",
   "execution_count": 41,
   "metadata": {},
   "outputs": [
    {
     "name": "stdout",
     "output_type": "stream",
     "text": [
      "0.8653846153846154\n"
     ]
    }
   ],
   "source": [
    "scaler = StandardScaler().fit(X)\n",
    "X = scaler.transform (X)\n",
    "\n",
    "log_reg_classifier = LogisticRegression ()\n",
    "log_reg_classifier.fit (X,Y)\n",
    "\n",
    "pred_k_1 = log_reg_classifier.predict(X_18)\n",
    "accuracy = np.mean(pred_k_1 == Y_18[0:-1])\n",
    "\n",
    "print(accuracy)"
   ]
  },
  {
   "cell_type": "code",
   "execution_count": 42,
   "metadata": {},
   "outputs": [
    {
     "name": "stdout",
     "output_type": "stream",
     "text": [
      "[[-3.06781103 -0.28678449]]\n",
      "[-1.28372429]\n",
      "the equation is y = -3.067811034432674*x1 -0.2867844909420809*x2 -1.283724293681242\n"
     ]
    }
   ],
   "source": [
    "a = log_reg_classifier.coef_\n",
    "print(a)\n",
    "print(log_reg_classifier.intercept_)\n",
    "print('the equation is y = '+str(log_reg_classifier.coef_[0][0])+'*x1 '+str(log_reg_classifier.coef_[0][1])+'*x2 '+str(log_reg_classifier.intercept_[0])\n",
    "     )"
   ]
  },
  {
   "cell_type": "code",
   "execution_count": 43,
   "metadata": {},
   "outputs": [
    {
     "name": "stdout",
     "output_type": "stream",
     "text": [
      "        TP  FP  TN  FN  accuracy  TPR       TNR\n",
      "result  31   7  14   0  0.865385  1.0  0.666667\n"
     ]
    }
   ],
   "source": [
    "TP = 0\n",
    "FP = 0\n",
    "TN = 0\n",
    "FN = 0\n",
    "for j in range(len(pred_k_1)):\n",
    "    if pred_k_1[j] == 'green' and Y_18[j] == 'green':\n",
    "        TP+=1\n",
    "    elif pred_k_1[j] == 'green' and Y_18[j] == 'red':\n",
    "        FP+=1\n",
    "    elif pred_k_1[j] == 'red' and Y_18[j] == 'red':\n",
    "        TN+=1\n",
    "    elif pred_k_1[j] == 'red' and Y_18[j] == 'green':\n",
    "        FN+=1\n",
    "dic2 = {'TP':TP,'FP':FP,'TN':TN,'FN' : FN,'accuracy':(TP+TN)/len(pred_k_1),'TPR' :TP/(TP+FN),'TNR': TN/(TN+FP)}\n",
    "result1 = pd.DataFrame(dic1,index = ['result'])\n",
    "\n",
    "print(result1)#question2"
   ]
  },
  {
   "cell_type": "code",
   "execution_count": 44,
   "metadata": {},
   "outputs": [
    {
     "name": "stdout",
     "output_type": "stream",
     "text": [
      "recall : 1.0\n",
      "specificity : 0.6666666666666666\n"
     ]
    }
   ],
   "source": [
    "print('recall :', TP/(TP+FN))\n",
    "print('specificity :',TN/(TN+FP))"
   ]
  },
  {
   "cell_type": "code",
   "execution_count": 45,
   "metadata": {},
   "outputs": [
    {
     "name": "stdout",
     "output_type": "stream",
     "text": [
      "[100.0, 100.7396449704142, 104.4484361792054, 108.24175824175823, 108.24175824175823, 108.24175824175825, 114.13097656176873, 114.13097656176873, 114.13097656176872, 114.74312125131335, 115.32805951021159, 115.32805951021159, 117.03199538083773, 117.03199538083773, 118.33409974318718, 118.74905607844138, 119.07815937881543, 114.15591871235155, 114.15591871235155, 112.55813529623266, 113.27143146414289, 115.14026742406764, 114.24151425250078, 115.76796805182866, 116.909241920485, 115.35425627444073, 115.35425627444073, 115.82166715673497, 115.91789880897201, 117.85627923260402, 119.29975401615977, 129.44531963772303, 125.60980092713204, 125.60980092713203, 125.56895221138338, 123.94861982001983, 125.66426588146359, 123.0499480735493, 123.04994807354932, 125.03705604444411, 128.1204994475568, 130.47762062682511, 133.64328918735413, 139.20719150585964, 128.8331174784984, 128.8331174784984, 128.8331174784984, 123.62330747085454, 123.62330747085454, 117.28008386258294, 117.28008386258294]\n"
     ]
    }
   ],
   "source": [
    "weekly_18= data[(data.Year == 2018) & (data.Weekday == 'Friday')]['Adj Close'].tolist() # select Friday's data\n",
    "\n",
    "previous_shares = 0\n",
    "previous_balance = 100\n",
    "weekly_balance = []\n",
    "for i in range(len(pred_k)-1):\n",
    "    if  pred_k[i+1]== 'green':\n",
    "        if previous_shares == 0:\n",
    "            previous_shares = previous_balance / weekly_18[i]\n",
    "            previous_balance = previous_shares*weekly_18[i]\n",
    "        else:\n",
    "            previous_shares = previous_shares\n",
    "            previous_balance = previous_shares*weekly_18[i]\n",
    "    elif pred_k[i+1] == 'red':\n",
    "        if previous_shares != 0:\n",
    "            previous_balance = previous_shares*weekly_18[i]\n",
    "            previous_shares = 0\n",
    "        else:\n",
    "            previous_shares = previous_shares\n",
    "            previous_balance = previous_balance\n",
    "    weekly_balance.append(previous_balance)\n",
    "\n",
    "print(weekly_balance)"
   ]
  },
  {
   "cell_type": "code",
   "execution_count": 46,
   "metadata": {},
   "outputs": [
    {
     "name": "stdout",
     "output_type": "stream",
     "text": [
      "buy_and_hold amount : 94.18850380388842\n",
      "base on label amount : 117.28008386258294\n"
     ]
    }
   ],
   "source": [
    "share_1 = 100/weekly_18[0]\n",
    "balance_1 = share_1 * weekly_18[-1]\n",
    "print('buy_and_hold amount :', balance_1)\n",
    "print('base on label amount :', weekly_balance[-1])"
   ]
  },
  {
   "cell_type": "code",
   "execution_count": 47,
   "metadata": {},
   "outputs": [
    {
     "data": {
      "image/png": "[encoded data removed]",
      "text/plain": [
       "<Figure size 432x288 with 1 Axes>"
      ]
     },
     "metadata": {
      "needs_background": "light"
     },
     "output_type": "display_data"
    }
   ],
   "source": [
    "data_18 = data[(data.Year == 2018) & (data.Weekday == 'Friday')]  # select Friday's data\n",
    "plt.plot(data_18['Week_Number'], weekly_balance, label=2018,color = 'red')\n",
    "plt.xlabel('week')\n",
    "plt.ylabel('balance($)')\n",
    "plt.title(2018)\n",
    "plt.legend()\n",
    "\n",
    "plt.show()"
   ]
  },
  {
   "cell_type": "code",
   "execution_count": null,
   "metadata": {},
   "outputs": [],
   "source": []
  }
 ],
 "metadata": {
  "kernelspec": {
   "display_name": "Python 3",
   "language": "python",
   "name": "python3"
  },
  "language_info": {
   "codemirror_mode": {
    "name": "ipython",
    "version": 3
   },
   "file_extension": ".py",
   "mimetype": "text/x-python",
   "name": "python",
   "nbconvert_exporter": "python",
   "pygments_lexer": "ipython3",
   "version": "3.8.3"
  }
 },
 "nbformat": 4,
 "nbformat_minor": 4
}
