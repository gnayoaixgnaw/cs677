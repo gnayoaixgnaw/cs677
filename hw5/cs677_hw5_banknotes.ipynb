{
 "cells": [
  {
   "cell_type": "code",
   "execution_count": 264,
   "metadata": {},
   "outputs": [],
   "source": [
    "import pandas as pd\n",
    "import matplotlib.pyplot as plt\n",
    "import numpy as np\n",
    "from sklearn.neighbors import KNeighborsClassifier\n",
    "from sklearn.model_selection import train_test_split\n",
    "from sklearn.preprocessing import StandardScaler\n",
    "\n",
    "pd.set_option('display.max_columns', None)"
   ]
  },
  {
   "cell_type": "code",
   "execution_count": 265,
   "metadata": {},
   "outputs": [
    {
     "name": "stdout",
     "output_type": "stream",
     "text": [
      "    f1_mean    f1_std   f2_mean    f2_std   f3_mean    f3_std   f4_mean  \\\n",
      "0  2.276686  2.019348  4.256627  5.138792  0.796718  3.239894 -1.147640   \n",
      "1 -1.868443  1.881183 -0.993576  5.404884  2.148271  5.261811 -1.246641   \n",
      "a  0.433735  2.842763  1.922353  5.869047  1.397627  4.310030 -1.191657   \n",
      "\n",
      "     f4_std  \n",
      "0  2.125077  \n",
      "1  2.070984  \n",
      "a  2.101013  \n"
     ]
    }
   ],
   "source": [
    "data = pd.read_csv('data_banknote_authentication.csv')\n",
    "\n",
    "data['color'] = data.apply(lambda x: 'green' if x['class'] == 0 else 'red', axis=1)\n",
    "f1_mean = data.groupby('class')['variance'].mean().tolist()\n",
    "f1_std = data.groupby('class')['variance'].std().tolist()\n",
    "f1_all_mean = data['variance'].mean()\n",
    "f1_all_std = data['variance'].std()\n",
    "f2_mean = data.groupby('class')['skewness'].mean().tolist()\n",
    "f2_std = data.groupby('class')['skewness'].std().tolist()\n",
    "f2_all_mean = data['skewness'].mean()\n",
    "f2_all_std = data['skewness'].std()\n",
    "f3_mean = data.groupby('class')['curtosis'].mean().tolist()\n",
    "f3_std = data.groupby('class')['curtosis'].std().tolist()\n",
    "f3_all_mean = data['curtosis'].mean()\n",
    "f3_all_std = data['curtosis'].std()\n",
    "f4_mean = data.groupby('class')['entropy'].mean().tolist()\n",
    "f4_std = data.groupby('class')['entropy'].std().tolist()\n",
    "f4_all_mean = data['entropy'].mean()\n",
    "f4_all_std = data['entropy'].std()\n",
    "\n",
    "dic = [\n",
    "    {'f1_mean':f1_mean[0],'f1_std':f1_std[0],'f2_mean':f2_mean[0],'f2_std':f2_std[0],'f3_mean':f3_mean[0],\n",
    "     'f3_std':f3_std[0],'f4_mean':f4_mean[0],'f4_std':f4_std[0]},\n",
    "    {'f1_mean':f1_mean[1],'f1_std':f1_std[1],'f2_mean':f2_mean[1],'f2_std':f2_std[1],'f3_mean':f3_mean[1],\n",
    "     'f3_std':f3_std[1],'f4_mean':f4_mean[1],'f4_std':f4_std[1]},\n",
    "    {'f1_mean':f1_all_mean,'f1_std':f1_all_std,'f2_mean':f2_all_mean,'f2_std':f2_all_std,'f3_mean':f3_all_mean,\n",
    "     'f3_std':f3_all_std,'f4_mean':f4_all_mean,'f4_std':f4_all_std}\n",
    "]\n",
    "\n",
    "result = pd.DataFrame(dic, index=list('01a'))\n",
    "\n",
    "print(result)#question1"
   ]
  },
  {
   "cell_type": "code",
   "execution_count": 266,
   "metadata": {},
   "outputs": [],
   "source": [
    "X = data[['variance','skewness','curtosis','entropy']].values\n",
    "Y = data['class'].values\n",
    "\n",
    "X_train ,X_test , Y_train , Y_test = train_test_split (X,Y, test_size =0.5 ,random_state =3)\n"
   ]
  },
  {
   "cell_type": "code",
   "execution_count": 267,
   "metadata": {},
   "outputs": [
    {
     "name": "stdout",
     "output_type": "stream",
     "text": [
      "         TP  FP   TN   FN  accuracy       TPR  TNR\n",
      "result  160   0  301  225  0.672012  0.415584  1.0\n",
      "higher accuracy on identifying real bills\n",
      "my accuracy is better than 50%\n"
     ]
    }
   ],
   "source": [
    "\n",
    "predict_list_my_class = []\n",
    "for i in X_test:\n",
    "    if (i[0] > 0) and ( i[1] > 5) and ( i[2] < 8):\n",
    "        predict_list_my_class.append(0)\n",
    "    else:\n",
    "        predict_list_my_class.append(1)\n",
    "\n",
    "TP = 0\n",
    "FP = 0\n",
    "TN = 0\n",
    "FN = 0\n",
    "for j in range(len(predict_list_my_class)):\n",
    "    if predict_list_my_class[j] == 0 and Y_test[j] == 0:\n",
    "        TP+=1\n",
    "    elif predict_list_my_class[j] == 0 and Y_test[j] == 1:\n",
    "        FP+=1\n",
    "    elif predict_list_my_class[j] == 1 and Y_test[j] == 1:\n",
    "        TN+=1\n",
    "    elif predict_list_my_class[j] == 1 and Y_test[j] == 0:\n",
    "        FN+=1\n",
    "\n",
    "    \n",
    "dic1 = {'TP':TP,'FP':FP,'TN':TN,'FN' : FN,'accuracy':(TP+TN)/len(predict_list_my_class),'TPR' :TP/(TP+FN),'TNR': TN/(TN+FP)}\n",
    "result = pd.DataFrame(dic1,index = ['result'])\n",
    "\n",
    "print(result)#question2\n",
    "print('higher accuracy on identifying real bills')\n",
    "print('my accuracy is better than 50%')\n"
   ]
  },
  {
   "cell_type": "code",
   "execution_count": 268,
   "metadata": {},
   "outputs": [],
   "source": [
    "scaler = StandardScaler().fit(X)\n",
    "X = scaler.transform (X)\n",
    "X_train ,X_test , Y_train , Y_test = train_test_split (X,Y, test_size =0.5 ,random_state =3)"
   ]
  },
  {
   "cell_type": "code",
   "execution_count": 269,
   "metadata": {},
   "outputs": [
    {
     "name": "stdout",
     "output_type": "stream",
     "text": [
      "k = 3,accuracy = 0.998542\n",
      "k = 5,accuracy = 0.995627\n",
      "k = 7,accuracy = 0.995627\n",
      "k = 9,accuracy = 0.995627\n",
      "k = 11,accuracy = 0.995627\n"
     ]
    }
   ],
   "source": [
    "\n",
    "\n",
    "accuracy_list = []\n",
    "for i in [3,5,7,9,11]:\n",
    "    knn_classifier = KNeighborsClassifier (n_neighbors =i)\n",
    "    knn_classifier.fit(X_train , Y_train.ravel())\n",
    "    pred_k = knn_classifier.predict(X_test)\n",
    "    accuracy_list.append (np. mean ( pred_k == Y_test ))\n",
    "    print('k = %d,accuracy = %f'%(i,np.mean(pred_k == Y_test)))\n",
    "\n"
   ]
  },
  {
   "cell_type": "code",
   "execution_count": 270,
   "metadata": {},
   "outputs": [
    {
     "name": "stdout",
     "output_type": "stream",
     "text": [
      "k = 3 is the optimal value\n"
     ]
    },
    {
     "data": {
      "image/png": "[encoded data removed]",
      "text/plain": [
       "<Figure size 432x288 with 1 Axes>"
      ]
     },
     "metadata": {
      "needs_background": "light"
     },
     "output_type": "display_data"
    }
   ],
   "source": [
    "plt.figsize =(10 ,4)\n",
    "ax = plt.gca ()\n",
    "# ax.xaxis.set_major_locator ( MaxNLocator ( integer = True ))\n",
    "plt.plot (range (3 ,13 ,2) , accuracy_list , color ='red', linestyle ='dashed',\n",
    "marker ='o', markerfacecolor ='black', markersize =10)\n",
    "plt . title ('accuracy vs. k for Iris Subset')\n",
    "plt . xlabel ('number of neighbors : k')\n",
    "plt . ylabel ('accuracy')\n",
    "print('k = 3 is the optimal value')"
   ]
  },
  {
   "cell_type": "code",
   "execution_count": 271,
   "metadata": {},
   "outputs": [
    {
     "name": "stdout",
     "output_type": "stream",
     "text": [
      "         TP  FP   TN  FN  accuracy       TPR  TNR\n",
      "result  384   0  301   1  0.998542  0.997403  1.0\n",
      "my knn classifier is better than my simple classifier\n"
     ]
    }
   ],
   "source": [
    "\n",
    "knn_classifier = KNeighborsClassifier (n_neighbors =3)\n",
    "knn_classifier.fit(X_train , Y_train.ravel())\n",
    "pred_k = knn_classifier.predict(X_test)\n",
    "\n",
    "TP = 0\n",
    "FP = 0\n",
    "TN = 0\n",
    "FN = 0\n",
    "for j in range(len(pred_k)):\n",
    "    if pred_k[j] == 0 and Y_test[j] == 0:\n",
    "        TP+=1\n",
    "    elif pred_k[j] == 0 and Y_test[j] == 1:\n",
    "        FP+=1\n",
    "    elif pred_k[j] == 1 and Y_test[j] == 1:\n",
    "        TN+=1\n",
    "    elif pred_k[j]== 1 and Y_test[j] == 0:\n",
    "        FN+=1\n",
    "\n",
    "dic2 = {'TP':TP,'FP':FP,'TN':TN,'FN' : FN,'accuracy':(TP+TN)/len(pred_k),'TPR' :TP/(TP+FN),'TNR': TN/(TN+FP)}\n",
    "result = pd.DataFrame(dic2,index = ['result'])\n",
    "\n",
    "print(result)#question3\n",
    "print('my knn classifier is better than my simple classifier')"
   ]
  },
  {
   "cell_type": "code",
   "execution_count": 272,
   "metadata": {},
   "outputs": [
    {
     "name": "stdout",
     "output_type": "stream",
     "text": [
      "my last 4 digits are : 0099\n",
      "my classifier prediction is : 1\n",
      "knn prediction is : 1\n"
     ]
    }
   ],
   "source": [
    "my = [0,0,9,9]\n",
    "print('my last 4 digits are : 0099')\n",
    "\n",
    "if (my[0] > 0) and ( my[1] > 5) and ( my[2] < 8):\n",
    "    print('my classifier prediction is :', 0)\n",
    "\n",
    "else:\n",
    "    print('my classifier prediction is :', 1)\n",
    "\n",
    "knn_classifier = KNeighborsClassifier (n_neighbors =3)\n",
    "knn_classifier.fit (X_train,Y_train.ravel())\n",
    "prediction = knn_classifier.predict(np.asmatrix(my))\n",
    "print('knn prediction is :',prediction[0]) #question3"
   ]
  },
  {
   "cell_type": "code",
   "execution_count": 273,
   "metadata": {},
   "outputs": [
    {
     "name": "stdout",
     "output_type": "stream",
     "text": [
      "drop 1 th feature accuracy = 0.959184\n",
      "drop 2 th feature accuracy = 0.978134\n",
      "drop 3 th feature accuracy = 0.970845\n",
      "drop 4 th feature accuracy = 0.994169\n",
      "all feature accuracy = 0.998542\n",
      "accuracy did not increase compared with all 4 features are used\n",
      "feature 1 contributes the most to loss of accuracy\n",
      "feature 4 contributes the least to loss of accuracy\n"
     ]
    }
   ],
   "source": [
    "X_list = [data[['skewness','curtosis','entropy']].values,\n",
    "          data[['variance','curtosis','entropy']].values,\n",
    "          data[['variance','skewness','entropy']].values,\n",
    "          data[['variance','skewness','curtosis']].values,\n",
    "          data[['variance','skewness','curtosis','entropy']].values]\n",
    "num = 1\n",
    "for i in X_list:\n",
    "    Y = data['class'].values\n",
    "    scaler = StandardScaler().fit(i)\n",
    "    i = scaler.transform (i)\n",
    "    X_train ,X_test , Y_train , Y_test = train_test_split (i,Y, test_size =0.5 ,random_state =3)\n",
    "    knn_classifier = KNeighborsClassifier (n_neighbors =3)\n",
    "    knn_classifier.fit (X_train,Y_train.ravel())\n",
    "    prediction = knn_classifier.predict(X_test)\n",
    "    if num < 5 :\n",
    "        print('drop %d th feature accuracy = %f'%(num,np.mean(prediction == Y_test)))\n",
    "    elif num == 5:\n",
    "        print('all feature accuracy = %f'%(np.mean(prediction == Y_test)))\n",
    "\n",
    "    num+=1\n",
    "\n",
    "print('accuracy did not increase compared with all 4 features are used')\n",
    "print('feature 1 contributes the most to loss of accuracy')\n",
    "print('feature 4 contributes the least to loss of accuracy')\n",
    "\n",
    "#question4\n"
   ]
  },
  {
   "cell_type": "code",
   "execution_count": 274,
   "metadata": {},
   "outputs": [
    {
     "name": "stdout",
     "output_type": "stream",
     "text": [
      "0.978134110787172\n"
     ]
    }
   ],
   "source": [
    "from sklearn.linear_model import LogisticRegression\n",
    "\n",
    "scaler = StandardScaler().fit(X)\n",
    "X = scaler.transform (X)\n",
    "\n",
    "X_train1 ,X_test1 , Y_train1 , Y_test1 = train_test_split (X,Y, test_size =0.5 ,random_state =4)\n",
    "log_reg_classifier = LogisticRegression ()\n",
    "log_reg_classifier.fit (X_train1,Y_train1)\n",
    "predicted = log_reg_classifier.predict(X_test1)\n",
    "accuracy = np.mean(predicted == Y_test1 )\n",
    "\n",
    "print(accuracy)"
   ]
  },
  {
   "cell_type": "code",
   "execution_count": 275,
   "metadata": {},
   "outputs": [
    {
     "name": "stdout",
     "output_type": "stream",
     "text": [
      "         TP  FP   TN  FN  accuracy       TPR      TNR\n",
      "result  366   3  305  12  0.978134  0.968254  0.99026\n",
      "my lr better than my simple classifier\n",
      "my lr is not better than my knn classifier\n"
     ]
    }
   ],
   "source": [
    "TP = 0\n",
    "FP = 0\n",
    "TN = 0\n",
    "FN = 0\n",
    "for j in range(len(predicted)):\n",
    "    if predicted[j] == 0 and Y_test1[j] == 0:\n",
    "        TP+=1\n",
    "    elif predicted[j] == 0 and Y_test1[j] == 1:\n",
    "        FP+=1\n",
    "    elif predicted[j] == 1 and Y_test1[j] == 1:\n",
    "        TN+=1\n",
    "    elif predicted[j]== 1 and Y_test1[j] == 0:\n",
    "        FN+=1\n",
    "\n",
    "dic2 = {'TP':TP,'FP':FP,'TN':TN,'FN' : FN,'accuracy':(TP+TN)/len(predicted),'TPR' :TP/(TP+FN),'TNR': TN/(TN+FP)}\n",
    "result = pd.DataFrame(dic2,index = ['result'])\n",
    "\n",
    "print(result)#question2\n",
    "print('my lr better than my simple classifier')\n",
    "print('my lr is not better than my knn classifier')\n"
   ]
  },
  {
   "cell_type": "code",
   "execution_count": 276,
   "metadata": {},
   "outputs": [
    {
     "name": "stdout",
     "output_type": "stream",
     "text": [
      "my classifier prediction is : 1\n",
      "knn prediction is :  1\n",
      "lr prediction is :  0\n",
      "lr prediction is not same as knn prediction\n"
     ]
    }
   ],
   "source": [
    "\n",
    "if (my[0] > 0) and ( my[1] > 5) and ( my[2] < 8):\n",
    "    print('my classifier prediction is :', 0)\n",
    "\n",
    "else:\n",
    "    print('my classifier prediction is :', 1)\n",
    "\n",
    "knn_classifier = KNeighborsClassifier (n_neighbors =3)\n",
    "knn_classifier.fit (X_train,Y_train.ravel())\n",
    "a = knn_classifier.predict(np.asmatrix(my))\n",
    "\n",
    "log_reg_classifier = LogisticRegression ()\n",
    "log_reg_classifier.fit (X_train1,Y_train1)\n",
    "b = log_reg_classifier.predict(np.asmatrix(my))\n",
    "print('knn prediction is : ',a[0])\n",
    "print('lr prediction is : ',b[0])#question5\n",
    "print('lr prediction is not same as knn prediction')"
   ]
  },
  {
   "cell_type": "code",
   "execution_count": 277,
   "metadata": {},
   "outputs": [
    {
     "name": "stdout",
     "output_type": "stream",
     "text": [
      "drop 1 th feature accuracy = 0.809038\n",
      "drop 2 th feature accuracy = 0.897959\n",
      "drop 3 th feature accuracy = 0.877551\n",
      "drop 4 th feature accuracy = 0.982507\n",
      "all feature accuracy = 0.983965\n",
      "accuracy did not increase compared with all 4 features are used\n",
      "feature 1 contributes the most to loss of accuracy\n",
      "feature 4 contributes the least to loss of accuracy\n"
     ]
    }
   ],
   "source": [
    "num = 1\n",
    "for i in X_list:\n",
    "    Y = data['class'].values\n",
    "    scaler = StandardScaler().fit(i)\n",
    "    i = scaler.transform (i)\n",
    "    X_train ,X_test , Y_train , Y_test = train_test_split (i,Y, test_size =0.5 ,random_state =3)\n",
    "    log_reg_classifier = LogisticRegression ()\n",
    "    log_reg_classifier.fit (X_train,Y_train)\n",
    "    prediction = log_reg_classifier.predict(X_test)\n",
    "    if num < 5 :\n",
    "        print('drop %d th feature accuracy = %f'%(num,np.mean(prediction == Y_test)))\n",
    "    elif num == 5:\n",
    "        print('all feature accuracy = %f'%(np.mean(prediction == Y_test)))\n",
    "\n",
    "    num+=1\n",
    "print('accuracy did not increase compared with all 4 features are used')\n",
    "print('feature 1 contributes the most to loss of accuracy')\n",
    "print('feature 4 contributes the least to loss of accuracy')\n",
    "#question 6"
   ]
  },
  {
   "cell_type": "code",
   "execution_count": null,
   "metadata": {},
   "outputs": [],
   "source": []
  }
 ],
 "metadata": {
  "kernelspec": {
   "display_name": "Python 3",
   "language": "python",
   "name": "python3"
  },
  "language_info": {
   "codemirror_mode": {
    "name": "ipython",
    "version": 3
   },
   "file_extension": ".py",
   "mimetype": "text/x-python",
   "name": "python",
   "nbconvert_exporter": "python",
   "pygments_lexer": "ipython3",
   "version": "3.8.3"
  }
 },
 "nbformat": 4,
 "nbformat_minor": 4
}
