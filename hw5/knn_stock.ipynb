{
 "cells": [
  {
   "cell_type": "code",
   "execution_count": 1,
   "metadata": {},
   "outputs": [],
   "source": [
    "import pandas as pd\n",
    "import matplotlib.pyplot as plt\n",
    "import numpy as np\n",
    "from sklearn.neighbors import KNeighborsClassifier\n",
    "from sklearn.model_selection import train_test_split\n",
    "from sklearn.preprocessing import StandardScaler"
   ]
  },
  {
   "cell_type": "code",
   "execution_count": 38,
   "metadata": {},
   "outputs": [],
   "source": [
    "data = pd.read_csv('WMT1.csv')\n",
    "data_17 = data[data.Year == 2017]\n",
    "# calculate the mean std\n",
    "\n",
    "mean_17 = data_17.groupby('Week_Number')['Return'].mean().tolist()\n",
    "std_17 = data_17.groupby('Week_Number')['Return'].std().tolist()\n",
    "X = []\n",
    "Y = []\n",
    "for i in range(len(mean_17)):\n",
    "    X.append([mean_17[i],std_17[i]])\n",
    "scaler = StandardScaler().fit(X)\n",
    "X = scaler.transform (X)\n",
    "weekly_17 = data_17.groupby('Week_Number')['label'] # select Friday's data\n",
    "for i,j in weekly_17:\n",
    "    Y.append(j.tolist()[0])\n",
    "\n",
    "\n",
    "X_train ,X_test , Y_train , Y_test = train_test_split (X,Y, test_size =0.5 ,random_state =0)"
   ]
  },
  {
   "cell_type": "code",
   "execution_count": 39,
   "metadata": {},
   "outputs": [
    {
     "name": "stdout",
     "output_type": "stream",
     "text": [
      "k = 3,accuracy = 0.923077\n",
      "k = 5,accuracy = 0.807692\n",
      "k = 7,accuracy = 0.769231\n",
      "k = 9,accuracy = 0.730769\n",
      "k = 11,accuracy = 0.730769\n"
     ]
    }
   ],
   "source": [
    "accuracy_list = []\n",
    "for i in [3,5,7,9,11]:\n",
    "    knn_classifier = KNeighborsClassifier (n_neighbors =i)\n",
    "    knn_classifier.fit(X_train , Y_train)\n",
    "    pred_k = knn_classifier.predict(X_test)\n",
    "    accuracy_list.append (np. mean ( pred_k == Y_test ))\n",
    "    print('k = %d,accuracy = %f'%(i,np.mean(pred_k == Y_test)))\n",
    "#question1"
   ]
  },
  {
   "cell_type": "code",
   "execution_count": 40,
   "metadata": {},
   "outputs": [
    {
     "name": "stdout",
     "output_type": "stream",
     "text": [
      "accuracy :  0.8653846153846154\n"
     ]
    }
   ],
   "source": [
    "data_18 = data[data.Year == 2018]\n",
    "# calculate the mean std\n",
    "\n",
    "mean_18 = data_18.groupby('Week_Number')['Return'].mean().tolist()[0:-1]\n",
    "std_18 = data_18.groupby('Week_Number')['Return'].std().tolist()[0:-1]\n",
    "\n",
    "X_18 = []\n",
    "Y_18 = []\n",
    "for i in range(len(mean_18)):\n",
    "    X_18.append([mean_18[i],std_18[i]])\n",
    "scaler = StandardScaler().fit(X_18)\n",
    "X_18 = scaler.transform (X_18)\n",
    "weekly_18 = data_18.groupby('Week_Number')['label'] # select Friday's data\n",
    "for i,j in weekly_18:\n",
    "    Y_18.append(j.tolist()[0])\n",
    "\n",
    "knn_classifier = KNeighborsClassifier (n_neighbors =3)\n",
    "knn_classifier.fit(X , Y)\n",
    "pred_k = knn_classifier.predict(X_18)\n",
    "\n",
    "print('accuracy : ',np. mean ( pred_k == Y_18[0:-1] ))\n"
   ]
  },
  {
   "cell_type": "code",
   "execution_count": 45,
   "metadata": {},
   "outputs": [
    {
     "name": "stdout",
     "output_type": "stream",
     "text": [
      "        TP  FP  TN  FN  accuracy  TPR       TNR\n",
      "result  31   7  14   0  0.865385  1.0  0.666667\n"
     ]
    }
   ],
   "source": [
    "TP = 0\n",
    "FP = 0\n",
    "TN = 0\n",
    "FN = 0\n",
    "for j in range(len(pred_k)):\n",
    "    if pred_k[j] == 'green' and Y_18[j] == 'green':\n",
    "        TP+=1\n",
    "    elif pred_k[j] == 'green' and Y_18[j] == 'red':\n",
    "        FP+=1\n",
    "    elif pred_k[j] == 'red' and Y_18[j] == 'red':\n",
    "        TN+=1\n",
    "    elif pred_k[j] == 'red' and Y_18[j] == 'green':\n",
    "        FN+=1\n",
    "dic1 = {'TP':TP,'FP':FP,'TN':TN,'FN' : FN,'accuracy':(TP+TN)/len(pred_k),'TPR' :TP/(TP+FN),'TNR': TN/(TN+FP)}\n",
    "result = pd.DataFrame(dic1,index = ['result'])\n",
    "\n",
    "print(result)#question2"
   ]
  },
  {
   "cell_type": "code",
   "execution_count": 46,
   "metadata": {},
   "outputs": [
    {
     "name": "stdout",
     "output_type": "stream",
     "text": [
      "recall : 1.0\n",
      "specificity : 0.6666666666666666\n"
     ]
    }
   ],
   "source": [
    "print('recall :', TP/(TP+FN))\n",
    "print('specificity :',TN/(TN+FP))"
   ]
  },
  {
   "cell_type": "code",
   "execution_count": 48,
   "metadata": {},
   "outputs": [
    {
     "name": "stdout",
     "output_type": "stream",
     "text": [
      "[100.0, 100.7396449704142, 104.4484361792054, 108.24175824175823, 108.24175824175823, 108.24175824175825, 114.13097656176873, 114.13097656176873, 114.13097656176872, 114.74312125131335, 115.32805951021159, 115.32805951021159, 117.03199538083773, 116.13742904875902, 117.42958041731715, 117.84136491938511, 118.1679526279218, 113.28333646546024, 113.28333646546024, 111.6977661475233, 111.69776614752328, 113.54063861167006, 112.65437170143154, 114.15961867596366, 115.28503697467926, 113.75165454267925, 113.75165454267925, 114.21257174616527, 114.30746646453002, 116.21891722016319, 117.64233799563468, 127.64695258894862, 123.8647202426958, 123.8647202426958, 123.82443903286078, 122.22661770940486, 123.91842852247584, 121.34043109303437, 121.34043109303437, 123.29993243043162, 126.3405379539791, 128.66491195420204, 131.78660029171078, 137.2732040364231, 127.04325567497673, 127.04325567497673, 127.04325567497673, 121.90582488254393, 121.90582488254393, 115.65072685773914, 115.65072685773914]\n"
     ]
    }
   ],
   "source": [
    "weekly_18= data[(data.Year == 2018) & (data.Weekday == 'Friday')]['Adj Close'].tolist() # select Friday's data\n",
    "\n",
    "previous_shares = 0\n",
    "previous_balance = 100\n",
    "weekly_balance = []\n",
    "for i in range(len(pred_k)-1):\n",
    "    if  pred_k[i+1]== 'green':\n",
    "        if previous_shares == 0:\n",
    "            previous_shares = previous_balance / weekly_18[i]\n",
    "            previous_balance = previous_shares*weekly_18[i]\n",
    "        else:\n",
    "            previous_shares = previous_shares\n",
    "            previous_balance = previous_shares*weekly_18[i]\n",
    "    elif pred_k[i+1] == 'red':\n",
    "        if previous_shares != 0:\n",
    "            previous_balance = previous_shares*weekly_18[i]\n",
    "            previous_shares = 0\n",
    "        else:\n",
    "            previous_shares = previous_shares\n",
    "            previous_balance = previous_balance\n",
    "    weekly_balance.append(previous_balance)\n",
    "\n",
    "print(weekly_balance)"
   ]
  },
  {
   "cell_type": "code",
   "execution_count": 50,
   "metadata": {},
   "outputs": [
    {
     "name": "stdout",
     "output_type": "stream",
     "text": [
      "buy_and_hold amount : 94.18850380388842\n",
      "base on label amount : 115.65072685773914\n"
     ]
    }
   ],
   "source": [
    "share_1 = 100/weekly_18[0]\n",
    "balance_1 = share_1 * weekly_18[-1]\n",
    "print('buy_and_hold amount :', balance_1)\n",
    "print('base on label amount :', weekly_balance[-1])"
   ]
  },
  {
   "cell_type": "code",
   "execution_count": 52,
   "metadata": {},
   "outputs": [
    {
     "data": {
      "image/png": "[encoded data removed]",
      "text/plain": [
       "<Figure size 432x288 with 1 Axes>"
      ]
     },
     "metadata": {
      "needs_background": "light"
     },
     "output_type": "display_data"
    }
   ],
   "source": [
    "data_18 = data[(data.Year == 2018) & (data.Weekday == 'Friday')]  # select Friday's data\n",
    "plt.plot(data_18['Week_Number'], weekly_balance, label=2018,color = 'red')\n",
    "plt.xlabel('week')\n",
    "plt.ylabel('balance($)')\n",
    "plt.title(2018)\n",
    "plt.legend()\n",
    "\n",
    "plt.show()"
   ]
  },
  {
   "cell_type": "code",
   "execution_count": null,
   "metadata": {},
   "outputs": [],
   "source": []
  },
  {
   "cell_type": "code",
   "execution_count": null,
   "metadata": {},
   "outputs": [],
   "source": []
  }
 ],
 "metadata": {
  "kernelspec": {
   "display_name": "Python 3",
   "language": "python",
   "name": "python3"
  },
  "language_info": {
   "codemirror_mode": {
    "name": "ipython",
    "version": 3
   },
   "file_extension": ".py",
   "mimetype": "text/x-python",
   "name": "python",
   "nbconvert_exporter": "python",
   "pygments_lexer": "ipython3",
   "version": "3.8.3"
  }
 },
 "nbformat": 4,
 "nbformat_minor": 4
}
